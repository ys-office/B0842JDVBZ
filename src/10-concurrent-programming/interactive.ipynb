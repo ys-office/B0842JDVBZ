{
 "cells": [
  {
   "cell_type": "markdown",
   "metadata": {},
   "source": [
    "# 並行処理と並列処理 ── 複数の処理を同時に行う"
   ]
  },
  {
   "cell_type": "markdown",
   "metadata": {},
   "source": [
    "## 逐次処理で実行する"
   ]
  },
  {
   "cell_type": "markdown",
   "metadata": {},
   "source": [
    "## 並行処理で実行する"
   ]
  },
  {
   "cell_type": "markdown",
   "metadata": {},
   "source": [
    "#### マルチスレッドとGIL"
   ]
  },
  {
   "cell_type": "markdown",
   "metadata": {},
   "source": [
    "## 並列処理で実行する"
   ]
  },
  {
   "cell_type": "markdown",
   "metadata": {},
   "source": [
    "## Pythonと並行処理"
   ]
  },
  {
   "cell_type": "markdown",
   "metadata": {},
   "source": [
    "### 並行処理と非同期処理の関係"
   ]
  },
  {
   "cell_type": "markdown",
   "metadata": {},
   "source": [
    "# concurrent.futuresモジュール ── 並行処理のための高水準インタフェース"
   ]
  },
  {
   "cell_type": "markdown",
   "metadata": {},
   "source": [
    "## FutureクラスとExecutorクラス ── 非同期処理のカプセル化と実行"
   ]
  },
  {
   "cell_type": "code",
   "execution_count": null,
   "metadata": {},
   "outputs": [],
   "source": [
    "# ThreadPoolExecutorはExecutorの具象サブクラス\n",
    "from concurrent.futures import (\n",
    "    ThreadPoolExecutor,\n",
    "    Future\n",
    ")"
   ]
  },
  {
   "cell_type": "code",
   "execution_count": null,
   "metadata": {},
   "outputs": [],
   "source": [
    "# 非同期に行いたい処理\n",
    "def func():\n",
    "    return 1"
   ]
  },
  {
   "cell_type": "code",
   "execution_count": 3,
   "metadata": {},
   "outputs": [
    {
     "data": {
      "text/plain": [
       "True"
      ]
     },
     "execution_count": 3,
     "metadata": {},
     "output_type": "execute_result"
    }
   ],
   "source": [
    "# 非同期に行いたい処理をsubmit()に渡す\n",
    "future = ThreadPoolExecutor().submit(func)\n",
    "isinstance(future, Future)"
   ]
  },
  {
   "cell_type": "code",
   "execution_count": 4,
   "metadata": {},
   "outputs": [
    {
     "data": {
      "text/plain": [
       "1"
      ]
     },
     "execution_count": 4,
     "metadata": {},
     "output_type": "execute_result"
    }
   ],
   "source": [
    "# 非同期で実行した処理の戻り値を取得\n",
    "future.result()"
   ]
  },
  {
   "cell_type": "code",
   "execution_count": 5,
   "metadata": {},
   "outputs": [
    {
     "data": {
      "text/plain": [
       "True"
      ]
     },
     "execution_count": 5,
     "metadata": {},
     "output_type": "execute_result"
    }
   ],
   "source": [
    "# 現在の状態を確認する\n",
    "future.done()"
   ]
  },
  {
   "cell_type": "code",
   "execution_count": 6,
   "metadata": {},
   "outputs": [
    {
     "data": {
      "text/plain": [
       "False"
      ]
     },
     "execution_count": 6,
     "metadata": {},
     "output_type": "execute_result"
    }
   ],
   "source": [
    "future.running()"
   ]
  },
  {
   "cell_type": "code",
   "execution_count": 7,
   "metadata": {},
   "outputs": [
    {
     "data": {
      "text/plain": [
       "False"
      ]
     },
     "execution_count": 7,
     "metadata": {},
     "output_type": "execute_result"
    }
   ],
   "source": [
    "future.cancelled()"
   ]
  },
  {
   "cell_type": "markdown",
   "metadata": {},
   "source": [
    "## ThreadPoolExecutorクラス ── スレッドベースの非同期実行"
   ]
  },
  {
   "cell_type": "markdown",
   "metadata": {},
   "source": [
    "### スレッドベースの非同期実行が効果的なケース"
   ]
  },
  {
   "cell_type": "markdown",
   "metadata": {},
   "source": [
    "## ThreadPoolExecutorクラスを利用したマルチスレッド処理の実例"
   ]
  },
  {
   "cell_type": "code",
   "execution_count": 8,
   "metadata": {},
   "outputs": [],
   "source": [
    "# 対象ページのURL一覧\n",
    "urls = [\n",
    "    'https://twitter.com',\n",
    "    'https://facebook.com',\n",
    "    'https://instagram.com',\n",
    "]"
   ]
  },
  {
   "cell_type": "code",
   "execution_count": 9,
   "metadata": {},
   "outputs": [],
   "source": [
    "from hashlib import md5\n",
    "from pathlib import Path\n",
    "from urllib import request"
   ]
  },
  {
   "cell_type": "code",
   "execution_count": 10,
   "metadata": {},
   "outputs": [],
   "source": [
    "def download(url):\n",
    "    req = request.Request(url)\n",
    "    # ファイル名に/などが含まれないようにする\n",
    "    name = md5(url.encode('utf-8')).hexdigest()\n",
    "    file_path = './' + name\n",
    "    with request.urlopen(req) as res:\n",
    "        Path(file_path).write_bytes(res.read())\n",
    "        return url, file_path"
   ]
  },
  {
   "cell_type": "code",
   "execution_count": 11,
   "metadata": {},
   "outputs": [
    {
     "data": {
      "text/plain": [
       "('https://twitter.com', './be8b09f7f1f66235a9c91986952483f0')"
      ]
     },
     "execution_count": 11,
     "metadata": {},
     "output_type": "execute_result"
    }
   ],
   "source": [
    "# 動きを確認\n",
    "download(urls[0])"
   ]
  },
  {
   "cell_type": "markdown",
   "metadata": {},
   "source": [
    "### 逐次処理で実装"
   ]
  },
  {
   "cell_type": "code",
   "execution_count": 12,
   "metadata": {},
   "outputs": [],
   "source": [
    "import time\n",
    "def elapsed_time(f):\n",
    "    def wrapper(*args, **kwargs):\n",
    "        st = time.time()\n",
    "        v = f(*args, **kwargs)\n",
    "        print(f\"{f.__name__}: {time.time() - st}\")\n",
    "        return v\n",
    "    return wrapper"
   ]
  },
  {
   "cell_type": "code",
   "execution_count": 13,
   "metadata": {},
   "outputs": [],
   "source": [
    "@elapsed_time\n",
    "def get_sequential():\n",
    "    for url in urls:\n",
    "        print(download(url))"
   ]
  },
  {
   "cell_type": "code",
   "execution_count": 14,
   "metadata": {},
   "outputs": [
    {
     "name": "stdout",
     "output_type": "stream",
     "text": [
      "('https://twitter.com', './be8b09f7f1f66235a9c91986952483f0')\n",
      "('https://facebook.com', './a023cfbf5f1c39bdf8407f28b60cd134')\n",
      "('https://instagram.com', './09f8b89478d7e1046fa93c7ee4afa99e')\n",
      "get_sequential: 3.2928359508514404\n"
     ]
    }
   ],
   "source": [
    "get_sequential()"
   ]
  },
  {
   "cell_type": "markdown",
   "metadata": {},
   "source": [
    "### マルチスレッドで実装"
   ]
  },
  {
   "cell_type": "code",
   "execution_count": 15,
   "metadata": {},
   "outputs": [],
   "source": [
    "from concurrent.futures import (\n",
    "    ThreadPoolExecutor,\n",
    "    as_completed\n",
    ")"
   ]
  },
  {
   "cell_type": "code",
   "execution_count": 16,
   "metadata": {},
   "outputs": [],
   "source": [
    "@elapsed_time\n",
    "def get_multi_thread():\n",
    "    # max_workersのデフォルトはコア数x5\n",
    "    with ThreadPoolExecutor(max_workers=3) as executor:\n",
    "        futures = [executor.submit(download, url)\n",
    "                   for url in urls]\n",
    "        for future in as_completed(futures):\n",
    "            # 完了したものから取得できる\n",
    "            print(future.result())"
   ]
  },
  {
   "cell_type": "code",
   "execution_count": 17,
   "metadata": {},
   "outputs": [
    {
     "name": "stdout",
     "output_type": "stream",
     "text": [
      "('https://twitter.com', './be8b09f7f1f66235a9c91986952483f0')\n",
      "('https://facebook.com', './a023cfbf5f1c39bdf8407f28b60cd134')\n",
      "('https://instagram.com', './09f8b89478d7e1046fa93c7ee4afa99e')\n",
      "get_multi_thread: 1.3061559200286865\n"
     ]
    }
   ],
   "source": [
    "get_multi_thread()"
   ]
  },
  {
   "cell_type": "markdown",
   "metadata": {},
   "source": [
    "### マルチスレッドの注意点"
   ]
  },
  {
   "cell_type": "markdown",
   "metadata": {},
   "source": [
    "### マルチスレッドでの動作に問題がある実装"
   ]
  },
  {
   "cell_type": "code",
   "execution_count": 18,
   "metadata": {},
   "outputs": [],
   "source": [
    "from concurrent.futures import (\n",
    "    ThreadPoolExecutor,\n",
    "    wait\n",
    ")"
   ]
  },
  {
   "cell_type": "code",
   "execution_count": 19,
   "metadata": {},
   "outputs": [],
   "source": [
    "class Counter:\n",
    "    def __init__(self):\n",
    "        self.count = 0\n",
    "    def increment(self):\n",
    "        self.count = self.count + 1"
   ]
  },
  {
   "cell_type": "code",
   "execution_count": 20,
   "metadata": {},
   "outputs": [],
   "source": [
    "def count_up(counter):\n",
    "    # 1,000,000回インクリメントする\n",
    "    for _ in range(1000000):\n",
    "        counter.increment()"
   ]
  },
  {
   "cell_type": "code",
   "execution_count": 21,
   "metadata": {},
   "outputs": [],
   "source": [
    "counter = Counter()\n",
    "threads = 2\n",
    "with ThreadPoolExecutor() as e:\n",
    "    # 2つのスレッドを用意し、それぞれでcount_upを呼び出す\n",
    "    futures = [e.submit(count_up, counter)\n",
    "               for _ in range(threads)]\n",
    "    done, not_done = wait(futures)"
   ]
  },
  {
   "cell_type": "code",
   "execution_count": 22,
   "metadata": {},
   "outputs": [
    {
     "name": "stdout",
     "output_type": "stream",
     "text": [
      "counter.count=1,602,970\n"
     ]
    }
   ],
   "source": [
    "# 数値をカンマ区切りで表示\n",
    "# 2,000,000にはなっていない\n",
    "print(f'{counter.count=:,}')"
   ]
  },
  {
   "cell_type": "markdown",
   "metadata": {},
   "source": [
    "### スレッドセーフな実装"
   ]
  },
  {
   "cell_type": "code",
   "execution_count": 23,
   "metadata": {},
   "outputs": [],
   "source": [
    "import threading\n",
    "class ThreadSafeCounter:\n",
    "    # ロックを用意する\n",
    "    lock = threading.Lock()\n",
    "    def __init__(self):\n",
    "        self.count = 0\n",
    "    def increment(self):\n",
    "        with self.lock:\n",
    "            # 排他制御したい一連の処理をこのブロック内に書く\n",
    "            self.count = self.count + 1"
   ]
  },
  {
   "cell_type": "code",
   "execution_count": 24,
   "metadata": {},
   "outputs": [],
   "source": [
    "counter = ThreadSafeCounter()\n",
    "threads = 2\n",
    "with ThreadPoolExecutor() as e:\n",
    "    futures = [e.submit(count_up, counter)\n",
    "               for _ in range(threads)]\n",
    "    done, not_done = wait(futures)"
   ]
  },
  {
   "cell_type": "code",
   "execution_count": 25,
   "metadata": {},
   "outputs": [
    {
     "name": "stdout",
     "output_type": "stream",
     "text": [
      "counter.count=2,000,000\n"
     ]
    }
   ],
   "source": [
    "# 期待通りの値になっている\n",
    "print(f'{counter.count=:,}')"
   ]
  },
  {
   "cell_type": "markdown",
   "metadata": {},
   "source": [
    "## ProcessPoolExecutorクラス ── プロセスベースの非同期実行"
   ]
  },
  {
   "cell_type": "markdown",
   "metadata": {},
   "source": [
    "### プロセスベースの非同期実行が効果的なケース"
   ]
  },
  {
   "cell_type": "markdown",
   "metadata": {},
   "source": [
    "## ProcessPoolExecutorクラスを利用したマルチプロセス処理の実例"
   ]
  },
  {
   "cell_type": "markdown",
   "metadata": {},
   "source": [
    "サンプルコードでは最終的なファイルのみを配布しています"
   ]
  },
  {
   "cell_type": "markdown",
   "metadata": {},
   "source": [
    "(注:fib.py)\n",
    "import sys\n",
    "\n",
    "def fibonacci(n):\n",
    "    a, b = 0, 1\n",
    "    for _ in range(n):\n",
    "        a, b = b, b + a\n",
    "    else:\n",
    "        return a\n",
    "\n",
    "def main():\n",
    "    n = int(sys.argv[1])\n",
    "    print(fibonacci(n))\n",
    "\n",
    "if __name__ == '__main__':\n",
    "    main()"
   ]
  },
  {
   "cell_type": "markdown",
   "metadata": {},
   "source": [
    "# 適当な値に調整すること\n",
    "!python3 fib.py 1000000"
   ]
  },
  {
   "cell_type": "markdown",
   "metadata": {},
   "source": [
    "### 逐次処理で実装"
   ]
  },
  {
   "cell_type": "markdown",
   "metadata": {},
   "source": [
    "(注:fib.py)\n",
    "import os\n",
    "import time\n",
    "import sys\n",
    "\n",
    "def fibonacci(n):\n",
    "    a, b = 0, 1\n",
    "    for _ in range(n):\n",
    "        a, b = b, b + a\n",
    "    else:\n",
    "        return a\n",
    "\n",
    "def elapsed_time(f):\n",
    "    def wrapper(*args, **kwargs):\n",
    "        st = time.time()\n",
    "        v = f(*args, **kwargs)\n",
    "        print(f\"{f.__name__}: {time.time() - st}\")\n",
    "        return v\n",
    "    return wrapper\n",
    "\n",
    "@elapsed_time\n",
    "def get_sequential(nums):\n",
    "    for num in nums:\n",
    "        print(fibonacci(num))\n",
    "\n",
    "def main():\n",
    "    n = int(sys.argv[1])\n",
    "    nums = [n] * os.cpu_count()\n",
    "    get_sequential(nums)\n",
    "\n",
    "if __name__ == '__main__':\n",
    "    main()"
   ]
  },
  {
   "cell_type": "markdown",
   "metadata": {},
   "source": [
    "!python3 fib.py 1000000"
   ]
  },
  {
   "cell_type": "markdown",
   "metadata": {},
   "source": [
    "### マルチプロセスで実装"
   ]
  },
  {
   "cell_type": "markdown",
   "metadata": {},
   "source": [
    "(注:fib.py)\n",
    "import os\n",
    "import time\n",
    "import sys\n",
    "from concurrent.futures import (\n",
    "    ProcessPoolExecutor,\n",
    "    as_completed\n",
    ")\n",
    "\n",
    "def fibonacci(n):\n",
    "    a, b = 0, 1\n",
    "    for _ in range(n):\n",
    "        a, b = b, b + a\n",
    "    else:\n",
    "        return a\n",
    "\n",
    "def elapsed_time(f):\n",
    "    def wrapper(*args, **kwargs):\n",
    "        st = time.time()\n",
    "        v = f(*args, **kwargs)\n",
    "        print(f\"{f.__name__}: {time.time() - st}\")\n",
    "        return v\n",
    "    return wrapper\n",
    "\n",
    "@elapsed_time\n",
    "def get_sequential(nums):\n",
    "    for num in nums:\n",
    "        print(fibonacci(num))\n",
    "\n",
    "@elapsed_time\n",
    "def get_multi_process(nums):\n",
    "    with ProcessPoolExecutor() as e:\n",
    "        futures = [e.submit(fibonacci, num)\n",
    "                   for num in nums]\n",
    "        for future in as_completed(futures):\n",
    "            print(future.result())\n",
    "\n",
    "def main():\n",
    "    n = int(sys.argv[1])\n",
    "    nums = [n] * os.cpu_count()\n",
    "    get_multi_process(nums)\n",
    "\n",
    "if __name__ == '__main__':\n",
    "    main()"
   ]
  },
  {
   "cell_type": "markdown",
   "metadata": {},
   "source": [
    "!python3 fib.py 1000000"
   ]
  },
  {
   "cell_type": "code",
   "execution_count": 26,
   "metadata": {},
   "outputs": [
    {
     "name": "stdout",
     "output_type": "stream",
     "text": [
      "import os\n",
      "import time\n",
      "import sys\n",
      "from concurrent.futures import (\n",
      "    ThreadPoolExecutor,\n",
      "    as_completed\n",
      ")\n",
      "\n",
      "def fibonacci(n):\n",
      "    a, b = 0, 1\n",
      "    for _ in range(n):\n",
      "        a, b = b, b + a\n",
      "    else:\n",
      "        return a\n",
      "\n",
      "def elapsed_time(f):\n",
      "    def wrapper(*args, **kwargs):\n",
      "        st = time.time()\n",
      "        v = f(*args, **kwargs)\n",
      "        print(f\"{f.__name__}: {time.time() - st}\")\n",
      "        return v\n",
      "    return wrapper\n",
      "\n",
      "@elapsed_time\n",
      "def get_sequential(nums):\n",
      "    for num in nums:\n",
      "        print(fibonacci(num))\n",
      "\n",
      "@elapsed_time\n",
      "def get_multi_thread(nums):\n",
      "    with ThreadPoolExecutor() as e:\n",
      "        futures = [e.submit(fibonacci, num)\n",
      "                   for num in nums]\n",
      "        for future in as_completed(futures):\n",
      "            print(future.result())\n",
      "\n",
      "def main():\n",
      "    n = int(sys.argv[1])\n",
      "    nums = [n] * os.cpu_count()\n",
      "    get_multi_thread(nums)\n",
      "\n",
      "if __name__ == '__main__':\n",
      "    main()"
     ]
    }
   ],
   "source": [
    "!cat fib.py"
   ]
  },
  {
   "cell_type": "markdown",
   "metadata": {},
   "source": [
    "!python3 fib.py 1000000"
   ]
  },
  {
   "cell_type": "markdown",
   "metadata": {},
   "source": [
    "### マルチプロセスの注意点"
   ]
  },
  {
   "cell_type": "markdown",
   "metadata": {},
   "source": [
    "### pickle化できるオブジェクトを使う"
   ]
  },
  {
   "cell_type": "code",
   "execution_count": 27,
   "metadata": {},
   "outputs": [
    {
     "name": "stdout",
     "output_type": "stream",
     "text": [
      "from concurrent.futures import (\n",
      "    ProcessPoolExecutor,\n",
      "    wait\n",
      ")\n",
      "\n",
      "func = lambda: 1\n",
      "\n",
      "def main():\n",
      "    with ProcessPoolExecutor() as e:\n",
      "        future = e.submit(func)\n",
      "        done, _ = wait([future])\n",
      "    print(future.result())\n",
      "\n",
      "if __name__ == '__main__':\n",
      "    main()"
     ]
    }
   ],
   "source": [
    "!cat unpickle.py"
   ]
  },
  {
   "cell_type": "code",
   "execution_count": 28,
   "metadata": {},
   "outputs": [
    {
     "name": "stdout",
     "output_type": "stream",
     "text": [
      "concurrent.futures.process._RemoteTraceback: \n",
      "\"\"\"\n",
      "Traceback (most recent call last):\n",
      "  File \"/Library/Frameworks/Python.framework/Versions/3.8/lib/python3.8/multiprocessing/queues.py\", line 239, in _feed\n",
      "    obj = _ForkingPickler.dumps(obj)\n",
      "  File \"/Library/Frameworks/Python.framework/Versions/3.8/lib/python3.8/multiprocessing/reduction.py\", line 51, in dumps\n",
      "    cls(buf, protocol).dump(obj)\n",
      "_pickle.PicklingError: Can't pickle <function <lambda> at 0x10c615820>: attribute lookup <lambda> on __main__ failed\n",
      "\"\"\"\n",
      "\n",
      "The above exception was the direct cause of the following exception:\n",
      "\n",
      "Traceback (most recent call last):\n",
      "  File \"unpickle.py\", line 15, in <module>\n",
      "    main()\n",
      "  File \"unpickle.py\", line 12, in main\n",
      "    print(future.result())\n",
      "  File \"/Library/Frameworks/Python.framework/Versions/3.8/lib/python3.8/concurrent/futures/_base.py\", line 432, in result\n",
      "    return self.__get_result()\n",
      "  File \"/Library/Frameworks/Python.framework/Versions/3.8/lib/python3.8/concurrent/futures/_base.py\", line 388, in __get_result\n",
      "    raise self._exception\n",
      "  File \"/Library/Frameworks/Python.framework/Versions/3.8/lib/python3.8/multiprocessing/queues.py\", line 239, in _feed\n",
      "    obj = _ForkingPickler.dumps(obj)\n",
      "  File \"/Library/Frameworks/Python.framework/Versions/3.8/lib/python3.8/multiprocessing/reduction.py\", line 51, in dumps\n",
      "    cls(buf, protocol).dump(obj)\n",
      "_pickle.PicklingError: Can't pickle <function <lambda> at 0x10c615820>: attribute lookup <lambda> on __main__ failed\n"
     ]
    }
   ],
   "source": [
    "!python3 unpickle.py"
   ]
  },
  {
   "cell_type": "markdown",
   "metadata": {},
   "source": [
    "### 乱数の取り扱い方"
   ]
  },
  {
   "cell_type": "code",
   "execution_count": 29,
   "metadata": {},
   "outputs": [
    {
     "name": "stdout",
     "output_type": "stream",
     "text": [
      "from concurrent.futures import (\n",
      "    ProcessPoolExecutor,\n",
      "    as_completed\n",
      ")\n",
      "import numpy as np\n",
      "\n",
      "def use_numpy_random():\n",
      "    # 乱数生成器を初期化する場合はこの行を実行する\n",
      "    # np.random.seed()\n",
      "    return np.random.random()\n",
      "\n",
      "def main():\n",
      "    with ProcessPoolExecutor() as e:\n",
      "        futures = [e.submit(use_numpy_random)\n",
      "                   for _ in range(3)]\n",
      "        for future in as_completed(futures):\n",
      "            print(future.result())\n",
      "\n",
      "if __name__ == '__main__':\n",
      "    main()"
     ]
    }
   ],
   "source": [
    "!cat rand.py"
   ]
  },
  {
   "cell_type": "raw",
   "metadata": {},
   "source": [
    "下記の実行にはnumpyのインストールが必要です"
   ]
  },
  {
   "cell_type": "code",
   "execution_count": 30,
   "metadata": {},
   "outputs": [
    {
     "name": "stdout",
     "output_type": "stream",
     "text": [
      "Requirement already satisfied: numpy in /Users/suyamar/github/python-practice-book/src/venv/lib/python3.8/site-packages (1.17.4)\n",
      "\u001b[33mWARNING: You are using pip version 19.2.3, however version 19.3.1 is available.\n",
      "You should consider upgrading via the 'pip install --upgrade pip' command.\u001b[0m\n"
     ]
    }
   ],
   "source": [
    "!pip install numpy"
   ]
  },
  {
   "cell_type": "code",
   "execution_count": 31,
   "metadata": {},
   "outputs": [
    {
     "name": "stdout",
     "output_type": "stream",
     "text": [
      "0.008641189922594883\n",
      "0.27818897134018383\n",
      "0.947495469896293\n"
     ]
    }
   ],
   "source": [
    "# macOSでPython3.8で実行\n",
    "!python3 rand.py"
   ]
  },
  {
   "cell_type": "code",
   "execution_count": 32,
   "metadata": {},
   "outputs": [
    {
     "name": "stdout",
     "output_type": "stream",
     "text": [
      "Collecting numpy\n",
      "\u001b[?25l  Downloading https://files.pythonhosted.org/packages/d7/6a/3fed132c846d1e47963f30376cc041e9dd586d286d931055ad06ff65c6c7/numpy-1.17.4-cp38-cp38-manylinux1_x86_64.whl (20.5MB)\n",
      "\u001b[K     |████████████████████████████████| 20.5MB 3.1MB/s eta 0:00:01\n",
      "\u001b[?25hInstalling collected packages: numpy\n",
      "Successfully installed numpy-1.17.4\n",
      "0.840262178496553\n",
      "0.4398793934941102\n",
      "0.8109793620522091\n"
     ]
    }
   ],
   "source": [
    "!docker run -it --rm -v $(pwd):/usr/src/app -w /usr/src/app python:3.8.1 bash -c 'pip install numpy; python3 rand.py'"
   ]
  },
  {
   "cell_type": "code",
   "execution_count": 33,
   "metadata": {},
   "outputs": [
    {
     "name": "stdout",
     "output_type": "stream",
     "text": [
      "from concurrent.futures import (\n",
      "    ProcessPoolExecutor,\n",
      "    as_completed\n",
      ")\n",
      "import random\n",
      "\n",
      "def use_starndard_random():\n",
      "    return random.random()\n",
      "\n",
      "def main():\n",
      "    with ProcessPoolExecutor() as e:\n",
      "        futures = [e.submit(use_starndard_random)\n",
      "                   for _ in range(3)]\n",
      "        for future in as_completed(futures):\n",
      "            print(future.result())\n",
      "\n",
      "if __name__ == '__main__':\n",
      "    main()"
     ]
    }
   ],
   "source": [
    "!cat standard_rand.py"
   ]
  },
  {
   "cell_type": "code",
   "execution_count": 34,
   "metadata": {},
   "outputs": [
    {
     "name": "stdout",
     "output_type": "stream",
     "text": [
      "0.5355067978782904\n",
      "0.08670975807252346\n",
      "0.42519421341484154\n"
     ]
    }
   ],
   "source": [
    "!docker run -it --rm -v $(pwd):/usr/src/app -w /usr/src/app python:3.8.1 python3 standard_rand.py"
   ]
  },
  {
   "cell_type": "markdown",
   "metadata": {},
   "source": [
    "# asyncioモジュール ──イベントループを利用した並行処理を行う"
   ]
  },
  {
   "cell_type": "markdown",
   "metadata": {},
   "source": [
    "## コルーチン ── 処理の途中で中断、再開する"
   ]
  },
  {
   "cell_type": "markdown",
   "metadata": {},
   "source": [
    "### async構文を使ったコルーチンの実装"
   ]
  },
  {
   "cell_type": "code",
   "execution_count": 35,
   "metadata": {},
   "outputs": [],
   "source": [
    "async def coro():\n",
    "    return 1"
   ]
  },
  {
   "cell_type": "code",
   "execution_count": 36,
   "metadata": {},
   "outputs": [
    {
     "data": {
      "text/plain": [
       "<coroutine object coro at 0x10d5896c0>"
      ]
     },
     "execution_count": 36,
     "metadata": {},
     "output_type": "execute_result"
    }
   ],
   "source": [
    "# 戻り値は1ではなくコルーチンオブジェクト\n",
    "coro()"
   ]
  },
  {
   "cell_type": "code",
   "execution_count": 37,
   "metadata": {},
   "outputs": [],
   "source": [
    "import asyncio"
   ]
  },
  {
   "cell_type": "raw",
   "metadata": {},
   "source": [
    "Notebook環境では、すでにイベントループ内で動いてるためasyncio.run()は利用できません\n",
    "そのためNotebook環境では、 asyncio.run(X) は await X に読み替えてください。"
   ]
  },
  {
   "cell_type": "raw",
   "metadata": {},
   "source": [
    "# 警告が出るがここでは無視する\n",
    ">>> asyncio.run(coro())"
   ]
  },
  {
   "cell_type": "code",
   "execution_count": 38,
   "metadata": {},
   "outputs": [
    {
     "data": {
      "text/plain": [
       "1"
      ]
     },
     "execution_count": 38,
     "metadata": {},
     "output_type": "execute_result"
    }
   ],
   "source": [
    "await coro()"
   ]
  },
  {
   "cell_type": "markdown",
   "metadata": {},
   "source": [
    "### await構文を使ったコルーチンの呼び出しと中断"
   ]
  },
  {
   "cell_type": "code",
   "execution_count": 39,
   "metadata": {},
   "outputs": [],
   "source": [
    "import asyncio\n",
    "import random"
   ]
  },
  {
   "cell_type": "code",
   "execution_count": 40,
   "metadata": {},
   "outputs": [],
   "source": [
    "async def call_web_api(url):\n",
    "    # Web APIの処理をここではスリープで代用\n",
    "    print(f'send a request: {url}')\n",
    "    await asyncio.sleep(random.random())\n",
    "    print(f'got a response: {url}')\n",
    "    return url"
   ]
  },
  {
   "cell_type": "code",
   "execution_count": 41,
   "metadata": {},
   "outputs": [],
   "source": [
    "async def async_download(url):\n",
    "    # awaitを使ってコルーチンを呼び出す\n",
    "    response = await call_web_api(url)\n",
    "    return response"
   ]
  },
  {
   "cell_type": "raw",
   "metadata": {},
   "source": [
    "Notebook環境では、すでにイベントループ内で動いてるためasyncio.run()は利用できません\n",
    "そのためNotebook環境では、 asyncio.run(X) は await X に読み替えてください。"
   ]
  },
  {
   "cell_type": "raw",
   "metadata": {},
   "source": [
    ">>> result = asyncio.run(\n",
    "    async_download('https://twitter.com/'))"
   ]
  },
  {
   "cell_type": "code",
   "execution_count": 42,
   "metadata": {},
   "outputs": [
    {
     "name": "stdout",
     "output_type": "stream",
     "text": [
      "send a request: https://twitter.com/\n",
      "got a response: https://twitter.com/\n"
     ]
    }
   ],
   "source": [
    "result = await async_download('https://twitter.com/')"
   ]
  },
  {
   "cell_type": "code",
   "execution_count": 43,
   "metadata": {},
   "outputs": [
    {
     "data": {
      "text/plain": [
       "'https://twitter.com/'"
      ]
     },
     "execution_count": 43,
     "metadata": {},
     "output_type": "execute_result"
    }
   ],
   "source": [
    "result"
   ]
  },
  {
   "cell_type": "markdown",
   "metadata": {},
   "source": [
    "### コルーチンの並行実行"
   ]
  },
  {
   "cell_type": "code",
   "execution_count": 44,
   "metadata": {},
   "outputs": [],
   "source": [
    "async def main():\n",
    "    task = asyncio.gather(\n",
    "        async_download('https://twitter.com/'),\n",
    "        async_download('https://facebook.com'),\n",
    "        async_download('https://instagram.com'),\n",
    "    )\n",
    "    return await task"
   ]
  },
  {
   "cell_type": "raw",
   "metadata": {},
   "source": [
    "Notebook環境では、すでにイベントループ内で動いてるためasyncio.run()は利用できません\n",
    "そのためNotebook環境では、 asyncio.run(X) は await X に読み替えてください。"
   ]
  },
  {
   "cell_type": "raw",
   "metadata": {},
   "source": [
    ">>> result = asyncio.run(main())"
   ]
  },
  {
   "cell_type": "code",
   "execution_count": 45,
   "metadata": {},
   "outputs": [
    {
     "name": "stdout",
     "output_type": "stream",
     "text": [
      "send a request: https://twitter.com/\n",
      "send a request: https://facebook.com\n",
      "send a request: https://instagram.com\n",
      "got a response: https://instagram.com\n",
      "got a response: https://twitter.com/\n",
      "got a response: https://facebook.com\n"
     ]
    }
   ],
   "source": [
    "result = await main()"
   ]
  },
  {
   "cell_type": "code",
   "execution_count": 46,
   "metadata": {},
   "outputs": [
    {
     "data": {
      "text/plain": [
       "['https://twitter.com/', 'https://facebook.com', 'https://instagram.com']"
      ]
     },
     "execution_count": 46,
     "metadata": {},
     "output_type": "execute_result"
    }
   ],
   "source": [
    "result"
   ]
  },
  {
   "cell_type": "markdown",
   "metadata": {},
   "source": [
    "## コルーチンのスケジューリングと実行"
   ]
  },
  {
   "cell_type": "markdown",
   "metadata": {},
   "source": [
    "### イベントループ ── asyncioモジュールの中心的な機構"
   ]
  },
  {
   "cell_type": "code",
   "execution_count": 47,
   "metadata": {},
   "outputs": [],
   "source": [
    "import asyncio\n",
    "async def main():\n",
    "    loop = asyncio.get_running_loop()\n",
    "    print(loop)"
   ]
  },
  {
   "cell_type": "raw",
   "metadata": {},
   "source": [
    "Notebook環境では、すでにイベントループ内で動いてるためasyncio.run()は利用できません\n",
    "そのためNotebook環境では、 asyncio.run(X) は await X に読み替えてください。"
   ]
  },
  {
   "cell_type": "raw",
   "metadata": {},
   "source": [
    ">>> asyncio.run(main())\n",
    "<_UnixSelectorEventLoop running=True closed=False debug=False>"
   ]
  },
  {
   "cell_type": "code",
   "execution_count": 48,
   "metadata": {},
   "outputs": [
    {
     "name": "stdout",
     "output_type": "stream",
     "text": [
      "<_UnixSelectorEventLoop running=True closed=False debug=False>\n"
     ]
    }
   ],
   "source": [
    "await main()"
   ]
  },
  {
   "cell_type": "markdown",
   "metadata": {},
   "source": [
    "### タスク ── スケジューリングしたコルーチンをカプセル化"
   ]
  },
  {
   "cell_type": "code",
   "execution_count": 49,
   "metadata": {},
   "outputs": [],
   "source": [
    "async def coro(n):\n",
    "    await asyncio.sleep(n)\n",
    "    return n"
   ]
  },
  {
   "cell_type": "code",
   "execution_count": 50,
   "metadata": {},
   "outputs": [],
   "source": [
    "async def main():\n",
    "    task = asyncio.create_task(coro(1))\n",
    "    print(task)\n",
    "    return await task"
   ]
  },
  {
   "cell_type": "raw",
   "metadata": {},
   "source": [
    "Notebook環境では、すでにイベントループ内で動いてるためasyncio.run()は利用できません\n",
    "そのためNotebook環境では、 asyncio.run(X) は await X に読み替えてください。"
   ]
  },
  {
   "cell_type": "raw",
   "metadata": {},
   "source": [
    "# print()時点ではまだPending状態\n",
    ">>> asyncio.run(main())\n",
    "<Task pending coro=<coro() running at <stdin>:1>>\n",
    "1"
   ]
  },
  {
   "cell_type": "code",
   "execution_count": 51,
   "metadata": {},
   "outputs": [
    {
     "name": "stdout",
     "output_type": "stream",
     "text": [
      "<Task pending name='Task-9' coro=<coro() running at <ipython-input-49-adc0461ab5af>:1>>\n"
     ]
    },
    {
     "data": {
      "text/plain": [
       "1"
      ]
     },
     "execution_count": 51,
     "metadata": {},
     "output_type": "execute_result"
    }
   ],
   "source": [
    "# print()時点ではまだPending状態\n",
    "await main()"
   ]
  },
  {
   "cell_type": "code",
   "execution_count": 52,
   "metadata": {},
   "outputs": [],
   "source": [
    "# タスクを作成して実行\n",
    "# 3秒で完了する\n",
    "async def main():\n",
    "    task1 = asyncio.create_task(coro(1))\n",
    "    task2 = asyncio.create_task(coro(2))\n",
    "    task3 = asyncio.create_task(coro(3))\n",
    "    print(await task1)\n",
    "    print(await task2)\n",
    "    print(await task3)"
   ]
  },
  {
   "cell_type": "raw",
   "metadata": {},
   "source": [
    "Notebook環境では、すでにイベントループ内で動いてるためasyncio.run()は利用できません\n",
    "そのためNotebook環境では、 asyncio.run(X) は await X に読み替えてください。"
   ]
  },
  {
   "cell_type": "raw",
   "metadata": {},
   "source": [
    ">>> asyncio.run(main())\n",
    "1\n",
    "2\n",
    "3"
   ]
  },
  {
   "cell_type": "code",
   "execution_count": 53,
   "metadata": {},
   "outputs": [
    {
     "name": "stdout",
     "output_type": "stream",
     "text": [
      "1\n",
      "2\n",
      "3\n"
     ]
    }
   ],
   "source": [
    "await main()"
   ]
  },
  {
   "cell_type": "code",
   "execution_count": 54,
   "metadata": {},
   "outputs": [],
   "source": [
    "# コルーチンのまま実行\n",
    "# こちらは6秒かかる\n",
    "async def main():\n",
    "    print(await coro(1))\n",
    "    print(await coro(2))\n",
    "    print(await coro(3))"
   ]
  },
  {
   "cell_type": "raw",
   "metadata": {},
   "source": [
    "Notebook環境では、すでにイベントループ内で動いてるためasyncio.run()は利用できません\n",
    "そのためNotebook環境では、 asyncio.run(X) は await X に読み替えてください。"
   ]
  },
  {
   "cell_type": "raw",
   "metadata": {},
   "source": [
    ">>> asyncio.run(main())\n",
    "1\n",
    "2\n",
    "3"
   ]
  },
  {
   "cell_type": "code",
   "execution_count": 55,
   "metadata": {},
   "outputs": [
    {
     "name": "stdout",
     "output_type": "stream",
     "text": [
      "1\n",
      "2\n",
      "3\n"
     ]
    }
   ],
   "source": [
    "await main()"
   ]
  },
  {
   "cell_type": "markdown",
   "metadata": {},
   "source": [
    "### 非同期I/O ── イベントループに適したI/O処理"
   ]
  },
  {
   "cell_type": "markdown",
   "metadata": {},
   "source": [
    "### 同期I/Oを利用する処理のタスク化"
   ]
  },
  {
   "cell_type": "code",
   "execution_count": 56,
   "metadata": {},
   "outputs": [],
   "source": [
    "async def main():\n",
    "    loop = asyncio.get_running_loop()\n",
    "    # 同期I/Oを利用するdownloadからタスクを作成\n",
    "    futures = [loop.run_in_executor(\n",
    "        None, download, url) for url in urls]\n",
    "    for result in await asyncio.gather(*futures):\n",
    "        print(result)"
   ]
  },
  {
   "cell_type": "raw",
   "metadata": {},
   "source": [
    "Notebook環境では、すでにイベントループ内で動いてるためasyncio.run()は利用できません\n",
    "そのためNotebook環境では、 asyncio.run(X) は await X に読み替えてください。"
   ]
  },
  {
   "cell_type": "raw",
   "metadata": {},
   "source": [
    ">>> asyncio.run(main())\n",
    "('https://twitter.com', './be8b09f7f1f66235a9c91986952483f0')\n",
    "('https://facebook.com', './a023cfbf5f1c39bdf8407f28b60cd134')\n",
    "('https://instagram.com', './09f8b89478d7e1046fa93c7ee4afa99e')"
   ]
  },
  {
   "cell_type": "code",
   "execution_count": 57,
   "metadata": {},
   "outputs": [
    {
     "name": "stdout",
     "output_type": "stream",
     "text": [
      "('https://twitter.com', './be8b09f7f1f66235a9c91986952483f0')\n",
      "('https://facebook.com', './a023cfbf5f1c39bdf8407f28b60cd134')\n",
      "('https://instagram.com', './09f8b89478d7e1046fa93c7ee4afa99e')\n"
     ]
    }
   ],
   "source": [
    "await main()"
   ]
  },
  {
   "cell_type": "markdown",
   "metadata": {},
   "source": [
    "## asyncioモジュールとHTTP通信"
   ]
  },
  {
   "cell_type": "markdown",
   "metadata": {},
   "source": [
    "### aiohttp ── 非同期I/Oを利用するHTTPクライアント兼サーバライブラリ"
   ]
  },
  {
   "cell_type": "raw",
   "metadata": {},
   "source": [
    "import aiohttp\n",
    "import asyncio\n",
    "\n",
    "async def fetch(session, url):\n",
    "    # 9.3節で紹介したコンテキストマネージャーの非同期版\n",
    "    async with session.get(url) as response:\n",
    "        return await response.text()\n",
    "\n",
    "async def main():\n",
    "    async with aiohttp.ClientSession() as session:\n",
    "        html = await fetch(session, 'http://python.org')\n",
    "        print(html)\n",
    "\n",
    "# 下記2行でasyncio.run()と似た挙動になる\n",
    "loop = asyncio.get_event_loop()\n",
    "loop.run_until_complete(main())"
   ]
  },
  {
   "cell_type": "markdown",
   "metadata": {},
   "source": [
    "# 本章のまとめ"
   ]
  }
 ],
 "metadata": {
  "kernelspec": {
   "display_name": "Python 3",
   "language": "python",
   "name": "python3"
  },
  "language_info": {
   "codemirror_mode": {
    "name": "ipython",
    "version": 3
   },
   "file_extension": ".py",
   "mimetype": "text/x-python",
   "name": "python",
   "nbconvert_exporter": "python",
   "pygments_lexer": "ipython3",
   "version": "3.8.1"
  }
 },
 "nbformat": 4,
 "nbformat_minor": 4
}
