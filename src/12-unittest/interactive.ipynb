{
 "cells": [
  {
   "cell_type": "raw",
   "metadata": {},
   "source": [
    "サンプルコードでは最終的なファイルのみを配布しています"
   ]
  },
  {
   "cell_type": "markdown",
   "metadata": {},
   "source": [
    "# ユニットテストの導入"
   ]
  },
  {
   "cell_type": "markdown",
   "metadata": {},
   "source": [
    "## 単一モジュールのテスト"
   ]
  },
  {
   "cell_type": "raw",
   "metadata": {},
   "source": [
    "(注:booksearch_module.py)\n",
    "import unittest\n",
    "\n",
    "# アプリケーションコード\n",
    "def booksearch():\n",
    "    # 任意の処理\n",
    "    return {}\n",
    "\n",
    "class BookSearchTest(unittest.TestCase):\n",
    "    # booksearch()のテストコード\n",
    "    def test_booksearch(self):\n",
    "        self.assertEqual({}, booksearch())"
   ]
  },
  {
   "cell_type": "code",
   "execution_count": 1,
   "metadata": {},
   "outputs": [
    {
     "name": "stdout",
     "output_type": "stream",
     "text": [
      ".\n",
      "----------------------------------------------------------------------\n",
      "Ran 1 test in 0.000s\n",
      "\n",
      "OK\n"
     ]
    }
   ],
   "source": [
    "!python3 -m unittest booksearch_module.py"
   ]
  },
  {
   "cell_type": "code",
   "execution_count": 2,
   "metadata": {},
   "outputs": [
    {
     "name": "stdout",
     "output_type": "stream",
     "text": [
      "test_booksearch (booksearch_module.BookSearchTest) ... ok\n",
      "\n",
      "----------------------------------------------------------------------\n",
      "Ran 1 test in 0.000s\n",
      "\n",
      "OK\n"
     ]
    }
   ],
   "source": [
    "# -vオプションで詳細な情報を表示\n",
    "!python3 -m unittest -v booksearch_module.py"
   ]
  },
  {
   "cell_type": "markdown",
   "metadata": {},
   "source": [
    "### テスト実行コマンドの簡略化"
   ]
  },
  {
   "cell_type": "code",
   "execution_count": 3,
   "metadata": {},
   "outputs": [
    {
     "name": "stdout",
     "output_type": "stream",
     "text": [
      "import unittest\n",
      "\n",
      "# アプリケーションコード\n",
      "def booksearch():\n",
      "    # 任意の処理\n",
      "    return {}\n",
      "\n",
      "class BookSearchTest(unittest.TestCase):\n",
      "    # booksearch()のテストコード\n",
      "    def test_booksearch(self):\n",
      "        self.assertEqual({}, booksearch())\n",
      "\n",
      "\n",
      "if __name__ == '__main__':\n",
      "    unittest.main()"
     ]
    }
   ],
   "source": [
    "!cat booksearch_module.py"
   ]
  },
  {
   "cell_type": "code",
   "execution_count": 4,
   "metadata": {},
   "outputs": [
    {
     "name": "stdout",
     "output_type": "stream",
     "text": [
      "test_booksearch (__main__.BookSearchTest) ... ok\n",
      "\n",
      "----------------------------------------------------------------------\n",
      "Ran 1 test in 0.000s\n",
      "\n",
      "OK\n"
     ]
    }
   ],
   "source": [
    "!python3 booksearch_module.py -v"
   ]
  },
  {
   "cell_type": "markdown",
   "metadata": {},
   "source": [
    "## パッケージのテスト"
   ]
  },
  {
   "cell_type": "markdown",
   "metadata": {},
   "source": [
    "### ディレクトリ構成"
   ]
  },
  {
   "cell_type": "code",
   "execution_count": 5,
   "metadata": {},
   "outputs": [
    {
     "name": "stdout",
     "output_type": "stream",
     "text": [
      "/Users/suyamar/github/python-practice-book/src/12-unittest/workspace\n"
     ]
    }
   ],
   "source": [
    "# booksearch/、tests/を用意したディレクトリに移動してください\n",
    "%cd workspace"
   ]
  },
  {
   "cell_type": "raw",
   "metadata": {},
   "source": [
    "$ python3 -m unittest\n",
    "\n",
    "----------------------------------------------------------------------\n",
    "Ran 0 tests in 0.000s\n",
    "\n",
    "OK"
   ]
  },
  {
   "cell_type": "markdown",
   "metadata": {},
   "source": [
    "### サンプルアプリケーションの作成"
   ]
  },
  {
   "cell_type": "code",
   "execution_count": 6,
   "metadata": {},
   "outputs": [
    {
     "name": "stdout",
     "output_type": "stream",
     "text": [
      "from .core import Book, get_books\n",
      "__all__ = ['Book', 'get_books']"
     ]
    }
   ],
   "source": [
    "!cat booksearch/__init__.py"
   ]
  },
  {
   "cell_type": "code",
   "execution_count": 7,
   "metadata": {},
   "outputs": [
    {
     "name": "stdout",
     "output_type": "stream",
     "text": [
      "import json\n",
      "from urllib import request, parse\n",
      "\n",
      "def get_json(param):\n",
      "    with request.urlopen(build_url(param)) as f:\n",
      "        return json.load(f)\n",
      "\n",
      "def get_data(url):\n",
      "    with request.urlopen(url) as f:\n",
      "        return f.read()\n",
      "\n",
      "def build_url(param):\n",
      "    query = parse.urlencode(param)\n",
      "    return ('https://www.googleapis.com'\n",
      "            f'/books/v1/volumes?{query}')"
     ]
    }
   ],
   "source": [
    "!cat booksearch/api.py"
   ]
  },
  {
   "cell_type": "code",
   "execution_count": 8,
   "metadata": {},
   "outputs": [
    {
     "name": "stdout",
     "output_type": "stream",
     "text": [
      "import imghdr\n",
      "import pathlib\n",
      "from .api import get_data, get_json\n",
      "\n",
      "class Book:\n",
      "    \"\"\"APIレスポンスのVolumeInfo要素に対応\"\"\"\n",
      "\n",
      "    def __init__(self, item):\n",
      "        self.id = item['id']\n",
      "        volume_info = item['volumeInfo']\n",
      "        for k, v in volume_info.items():\n",
      "            setattr(self, str(k), v)\n",
      "\n",
      "    def __repr__(self):\n",
      "        return str(self.__dict__)\n",
      "\n",
      "    def save_thumbnails(self, prefix):\n",
      "        \"\"\"サムネイル画像を保存する\"\"\"\n",
      "        paths = []\n",
      "        for kind, url in self.imageLinks.items():\n",
      "            thumbnail = get_data(url)\n",
      "            # 画像データから拡張子を判定\n",
      "            ext = imghdr.what(None, h=thumbnail)\n",
      "            # pathlib.Pathは/演算子でパスを追加できる\n",
      "            base = pathlib.Path(\n",
      "              prefix) / f'{self.id}_{kind}'\n",
      "            filename = base.with_suffix(f'.{ext}')\n",
      "            filename.write_bytes(thumbnail)\n",
      "            paths.append(filename)\n",
      "        return paths\n",
      "\n",
      "def get_books(q, **params):\n",
      "    \"\"\"書籍検索を行う\"\"\"\n",
      "    params['q'] = q\n",
      "    data = get_json(params)\n",
      "    return [Book(item) for item in data['items']]"
     ]
    }
   ],
   "source": [
    "!cat booksearch/core.py"
   ]
  },
  {
   "cell_type": "code",
   "execution_count": 9,
   "metadata": {},
   "outputs": [],
   "source": [
    "from booksearch import get_books\n",
    "books = get_books(q='python')"
   ]
  },
  {
   "cell_type": "code",
   "execution_count": 10,
   "metadata": {},
   "outputs": [
    {
     "data": {
      "text/plain": [
       "{'id': 'oW63DwAAQBAJ', 'title': '実践力を身につける Pythonの教科書', 'authors': ['クジラ飛行机'], 'publisher': 'マイナビ出版', 'publishedDate': '2016-10-26', 'description': '※この商品はタブレットなど大きいディスプレイを備えた端末で読むことに適しています。また、文字だけを拡大することや、文字列のハイライト、検索、辞書の参照、引用などの機能が使用できません。 便利な簡単プログラムから機械学習までこの1冊で！ 本書はプログラミング言語Python（パイソン）の入門書です。 初めてPythonに取り組む人にとってもわかりやすいように、Pythonの文法の基本を1つずつ丁寧に説明します。小さなプログラムを実際に作りながらの説明なので、その文法がどんなものなのか、どんな時に使えばいいのかを理解しやすくなっています。また、プログラムが動く楽しさを味わいながら進むことができるようになっています。 後半では、より本格的にPythonを使っていくためのプログラミングを学んでいきます。途中少し難しめの解説があるところでは、「後から読んでも大丈夫」というマークを付けて、読み飛ばせるようになっています。 実践編や応用編では、少し長めのプログラムを書いて、デスクトップアプリやWebアプリを作ったり、機械学習で判定をするプログラムを書いたりする作例を紹介しています。これによって、本書で学習したことの理解を深めることもできますし、動くプログラムを作る楽しさや充実感を味わうことができます。 「初心者だけど、とりあえず動くものを作りたい」という目的にも使えますし、少し上達してから、後回しにしていた内容をもう一度読んで、「さらに力を付けて、高度なプログラミングにも挑戦してみたい」という目的にも使える、1冊で2度おいしい本です。', 'industryIdentifiers': [{'type': 'OTHER', 'identifier': 'PKEY:BT000040869800100101900209'}], 'readingModes': {'text': True, 'image': True}, 'pageCount': 232, 'printType': 'BOOK', 'categories': ['Computers'], 'maturityRating': 'NOT_MATURE', 'allowAnonLogging': False, 'contentVersion': '1.1.1.0.preview.3', 'panelizationSummary': {'containsEpubBubbles': False, 'containsImageBubbles': False}, 'imageLinks': {'smallThumbnail': 'http://books.google.com/books/content?id=oW63DwAAQBAJ&printsec=frontcover&img=1&zoom=5&edge=curl&source=gbs_api', 'thumbnail': 'http://books.google.com/books/content?id=oW63DwAAQBAJ&printsec=frontcover&img=1&zoom=1&edge=curl&source=gbs_api'}, 'language': 'ja', 'previewLink': 'http://books.google.co.jp/books?id=oW63DwAAQBAJ&printsec=frontcover&dq=python&hl=&cd=1&source=gbs_api', 'infoLink': 'https://play.google.com/store/books/details?id=oW63DwAAQBAJ&source=gbs_api', 'canonicalVolumeLink': 'https://play.google.com/store/books/details?id=oW63DwAAQBAJ'}"
      ]
     },
     "execution_count": 10,
     "metadata": {},
     "output_type": "execute_result"
    }
   ],
   "source": [
    "# 実行時に取得されたデータによって結果は異なる\n",
    "books[0]"
   ]
  },
  {
   "cell_type": "markdown",
   "metadata": {},
   "source": [
    "# unittestモジュール ── 標準のユニットテストライブラリ"
   ]
  },
  {
   "cell_type": "markdown",
   "metadata": {},
   "source": [
    "## テストケースの実装"
   ]
  },
  {
   "cell_type": "raw",
   "metadata": {},
   "source": [
    "(注:tests/test_api.py)\n",
    "import unittest\n",
    "\n",
    "class BuildUrlTest(unittest.TestCase):\n",
    "    def test_build_url(self):\n",
    "        # build_url()がテスト対象の処理\n",
    "        from booksearch.api import build_url\n",
    "        expected = 'https://www.googleapis.com/books/v1/volumes?q=python'\n",
    "        actual = build_url({'q': 'python'})\n",
    "        # アサーションメソッドの利用\n",
    "        self.assertEqual(expected, actual)"
   ]
  },
  {
   "cell_type": "raw",
   "metadata": {},
   "source": [
    "(注:tests/test_api.py)\n",
    "（省略）\n",
    "        actual = build_url({'q': 'python'})\n",
    "        # アサーションメソッドの利用\n",
    "        self.assertEqual(expected, actual)\n",
    "\n",
    "        # これはよくない例\n",
    "        # 上の行が失敗するとここ以下の行は実行されない\n",
    "        expected2 = 'https://www.googleapis.com/books/v1/volumes?'\n",
    "        actual2 = build_url({})\n",
    "        self.assertEqual(expected2, actual2)"
   ]
  },
  {
   "cell_type": "raw",
   "metadata": {},
   "source": [
    "(注:tests/test_api.py)\n",
    "（省略）\n",
    "        actual = build_url({'q': 'python'})\n",
    "        # アサーションメソッドの利用\n",
    "        self.assertEqual(expected, actual)\n",
    "\n",
    "      # これはよい例\n",
    "      def test_build_url_empty_param(self):\n",
    "        from booksearch.api import build_url\n",
    "        expected = 'https://www.googleapis.com/books/v1/volumes?'\n",
    "        actual = build_url({})\n",
    "        self.assertEqual(expected, actual)"
   ]
  },
  {
   "cell_type": "markdown",
   "metadata": {},
   "source": [
    "### 前処理、後処理が必要なテストケース"
   ]
  },
  {
   "cell_type": "raw",
   "metadata": {},
   "source": [
    "(注:tests/test_core.py)\n",
    "import pathlib\n",
    "import unittest\n",
    "from tempfile import TemporaryDirectory\n",
    "\n",
    "THUMBNAIL_URL = (\n",
    "    'http://books.google.com/books/content'\n",
    "    '?id=OgtBw76OY5EC&printsec=frontcover'\n",
    "    '&img=1&zoom=1&edge=curl&source=gbs_api'\n",
    ")\n",
    "\n",
    "class SaveThumbnailsTest(unittest.TestCase):\n",
    "    def setUp(self):\n",
    "        # 一時ディレクトリを作成する\n",
    "        self.tmp = TemporaryDirectory()\n",
    "\n",
    "    def tearDown(self):\n",
    "        # 一時ディレクトリを片付ける\n",
    "        self.tmp.cleanup()\n",
    "\n",
    "    def test_save_thumbnails(self):\n",
    "        from booksearch.core import Book\n",
    "        book = Book({'id': '', 'volumeInfo': {\n",
    "            'imageLinks': {\n",
    "                'thumbnail': THUMBNAIL_URL\n",
    "            }}})\n",
    "        # 処理を実行し、ファイルが作成されることを確認する\n",
    "        filename = book.save_thumbnails(self.tmp.name)[0]\n",
    "        self.assertTrue(pathlib.Path(filename).exists())"
   ]
  },
  {
   "cell_type": "markdown",
   "metadata": {},
   "source": [
    "## テストの実行と結果の確認"
   ]
  },
  {
   "cell_type": "raw",
   "metadata": {},
   "source": [
    "$ python3 -m unittest\n",
    "...\n",
    "----------------------------------------------------------------------\n",
    "Ran 3 tests in 0.899s\n",
    "\n",
    "OK"
   ]
  },
  {
   "cell_type": "raw",
   "metadata": {},
   "source": [
    "$ python3 -m unittest -v\n",
    "test_build_url (test_api.BuildUrlTest) ... ok\n",
    "test_build_url_empty_param (test_api.BuildUrlTest) ... ok\n",
    "test_save_thumbnails (test_core.SaveThumbnailsTest) ... ok\n",
    "\n",
    "----------------------------------------------------------------------\n",
    "Ran 3 tests in 0.337s\n",
    "\n",
    "OK"
   ]
  },
  {
   "cell_type": "markdown",
   "metadata": {},
   "source": [
    "### テスト失敗時の結果"
   ]
  },
  {
   "cell_type": "raw",
   "metadata": {},
   "source": [
    "(注:tests/test_api.py)\n",
    "class BuildUrlTest(unittest.TestCase):\n",
    "    （省略）\n",
    "    def test_build_url_fail(self):\n",
    "        from booksearch.api import build_url\n",
    "        expected = 'https://www.googleapis.com/books/v1/volumes'\n",
    "        actual = build_url({})\n",
    "        self.assertEqual(expected, actual,\n",
    "                         msg='このテストは失敗します')"
   ]
  },
  {
   "cell_type": "raw",
   "metadata": {},
   "source": [
    "$ python3 -m unittest -v\n",
    "test_build_url (test_api.BuildUrlTest) ... ok\n",
    "test_build_url_empty_param (test_api.BuildUrlTest) ... ok\n",
    "test_build_url_fail (test_api.BuildUrlTest) ... FAIL\n",
    "test_save_thumbnails (test_core.SaveThumbnailsTest) ... ok\n",
    "\n",
    "======================================================================\n",
    "FAIL: test_build_url_fail (test_api.BuildUrlTest)\n",
    "----------------------------------------------------------------------\n",
    "Traceback (most recent call last):\n",
    "  File \"/Users/.../workspace/tests/test_api.py\", line 23, in test_build_url_fail\n",
    "    msg='このテストは失敗します')\n",
    "AssertionError: 'https://www.googleapis.com/books/v1/volumes' != 'https://www.googleapis.com/books/v1/volumes?'\n",
    "- https://www.googleapis.com/books/v1/volumes\n",
    "+ https://www.googleapis.com/books/v1/volumes?\n",
    "?                                            +\n",
    " : このテストは失敗します\n",
    "\n",
    "----------------------------------------------------------------------\n",
    "Ran 4 tests in 0.397s\n",
    "\n",
    "FAILED (failures=1)"
   ]
  },
  {
   "cell_type": "markdown",
   "metadata": {},
   "source": [
    "### テスト失敗時の結果を抑制する"
   ]
  },
  {
   "cell_type": "raw",
   "metadata": {},
   "source": [
    "(注:tests/test_api.py)\n",
    "class BuildUrlTest(unittest.TestCase):\n",
    "    （省略）\n",
    "    @unittest.expectedFailure\n",
    "    def test_build_url_fail(self):"
   ]
  },
  {
   "cell_type": "raw",
   "metadata": {},
   "source": [
    "$ python3 -m unittest -v\n",
    "test_build_url (test_api.BuildUrlTest) ... ok\n",
    "test_build_url_empty_param (test_api.BuildUrlTest) ... ok\n",
    "test_build_url_fail (test_api.BuildUrlTest) ... expected failure\n",
    "test_save_thumbnails (test_core.SaveThumbnailsTest) ... ok\n",
    "\n",
    "----------------------------------------------------------------------\n",
    "Ran 4 tests in 0.400s\n",
    "\n",
    "OK (expected failures=1)"
   ]
  },
  {
   "cell_type": "markdown",
   "metadata": {},
   "source": [
    "## 特定のテストのみを実行する"
   ]
  },
  {
   "cell_type": "markdown",
   "metadata": {},
   "source": [
    "### テストケースを直接指定"
   ]
  },
  {
   "cell_type": "raw",
   "metadata": {},
   "source": [
    "# モジュールを指定\n",
    "$ python3 -m unittest -v tests.test_api\n",
    "test_build_url (tests.test_api.BuildUrlTest) ... ok\n",
    "test_build_url_empty_param (tests.test_api.BuildUrlTest) ... ok\n",
    "test_build_url_fail (tests.test_api.BuildUrlTest) ... expected failure\n",
    "\n",
    "----------------------------------------------------------------------\n",
    "Ran 3 tests in 0.049s\n",
    "\n",
    "OK (expected failures=1)\n",
    "\n",
    "# クラスを指定\n",
    "$ python3 -m unittest -v tests.test_api.BuildUrlTest\n",
    "（省略）\n",
    "\n",
    "# メソッドを指定\n",
    "$ python3 -m unittest -v tests.test_api.BuildUrlTest.test_build_url（実際は１行）\n",
    "（省略）\n",
    "\n",
    "# 複数指定\n",
    "$ python3 -m unittest -v tests.test_api tests.test_core\n",
    "（省略）"
   ]
  },
  {
   "cell_type": "markdown",
   "metadata": {},
   "source": [
    "### テストディスカバリ"
   ]
  },
  {
   "cell_type": "raw",
   "metadata": {},
   "source": [
    "# 実行するテストモジュールの名前を指定\n",
    "$ python3 -m unittest discover -s tests -p 'test_c*.py' -v\n",
    "test_save_thumbnails (test_core.SaveThumbnailsTest) ... ok\n",
    "\n",
    "----------------------------------------------------------------------\n",
    "Ran 1 test in 0.362s\n",
    "\n",
    "OK"
   ]
  },
  {
   "cell_type": "markdown",
   "metadata": {},
   "source": [
    "# unittest.mockモジュール ── モックオブジェクトの利用"
   ]
  },
  {
   "cell_type": "markdown",
   "metadata": {},
   "source": [
    "## モックオブジェクトの基本的な使い方"
   ]
  },
  {
   "cell_type": "markdown",
   "metadata": {},
   "source": [
    "### 任意の値を返す呼び出し可能オブジェクトとして利用する"
   ]
  },
  {
   "cell_type": "code",
   "execution_count": 11,
   "metadata": {},
   "outputs": [
    {
     "data": {
      "text/plain": [
       "3"
      ]
     },
     "execution_count": 11,
     "metadata": {},
     "output_type": "execute_result"
    }
   ],
   "source": [
    "from unittest.mock import Mock\n",
    "\n",
    "# 引数で戻り値を設定\n",
    "mock = Mock(return_value=3)\n",
    "mock()"
   ]
  },
  {
   "cell_type": "code",
   "execution_count": 12,
   "metadata": {},
   "outputs": [
    {
     "data": {
      "text/plain": [
       "4"
      ]
     },
     "execution_count": 12,
     "metadata": {},
     "output_type": "execute_result"
    }
   ],
   "source": [
    "# return_valueは後からでも設定できる\n",
    "mock.return_value=4\n",
    "\n",
    "# 呼び出し時に引数は戻り値に影響しない\n",
    "mock(1)"
   ]
  },
  {
   "cell_type": "code",
   "execution_count": 13,
   "metadata": {},
   "outputs": [
    {
     "data": {
      "text/plain": [
       "1"
      ]
     },
     "execution_count": 13,
     "metadata": {},
     "output_type": "execute_result"
    }
   ],
   "source": [
    "# 関数では引数がそのまま渡される\n",
    "mock = Mock(side_effect=lambda x: x % 2)\n",
    "mock(3)"
   ]
  },
  {
   "cell_type": "code",
   "execution_count": 14,
   "metadata": {},
   "outputs": [
    {
     "data": {
      "text/plain": [
       "2"
      ]
     },
     "execution_count": 14,
     "metadata": {},
     "output_type": "execute_result"
    }
   ],
   "source": [
    "# side_effectは後からでも設定できる\n",
    "# イテラブルでは呼び出しごとに前から順に返される\n",
    "mock.side_effect=[2, 1]\n",
    "mock()"
   ]
  },
  {
   "cell_type": "code",
   "execution_count": 15,
   "metadata": {},
   "outputs": [
    {
     "data": {
      "text/plain": [
       "1"
      ]
     },
     "execution_count": 15,
     "metadata": {},
     "output_type": "execute_result"
    }
   ],
   "source": [
    "mock()"
   ]
  },
  {
   "cell_type": "code",
   "execution_count": 16,
   "metadata": {
    "tags": [
     "raises-exception"
    ]
   },
   "outputs": [
    {
     "ename": "ValueError",
     "evalue": "エラーです",
     "output_type": "error",
     "traceback": [
      "\u001b[0;31m---------------------------------------------------------------------------\u001b[0m",
      "\u001b[0;31mValueError\u001b[0m                                Traceback (most recent call last)",
      "\u001b[0;32m<ipython-input-16-9e32f1dfdfbd>\u001b[0m in \u001b[0;36m<module>\u001b[0;34m\u001b[0m\n\u001b[1;32m      1\u001b[0m \u001b[0;31m# 例外クラスやそのインスタンスではその例外が送出される\u001b[0m\u001b[0;34m\u001b[0m\u001b[0;34m\u001b[0m\u001b[0;34m\u001b[0m\u001b[0m\n\u001b[1;32m      2\u001b[0m \u001b[0mmock\u001b[0m\u001b[0;34m.\u001b[0m\u001b[0mside_effect\u001b[0m \u001b[0;34m=\u001b[0m \u001b[0mValueError\u001b[0m\u001b[0;34m(\u001b[0m\u001b[0;34m'エラーです'\u001b[0m\u001b[0;34m)\u001b[0m\u001b[0;34m\u001b[0m\u001b[0;34m\u001b[0m\u001b[0m\n\u001b[0;32m----> 3\u001b[0;31m \u001b[0mmock\u001b[0m\u001b[0;34m(\u001b[0m\u001b[0;34m)\u001b[0m\u001b[0;34m\u001b[0m\u001b[0;34m\u001b[0m\u001b[0m\n\u001b[0m",
      "\u001b[0;32m/Library/Frameworks/Python.framework/Versions/3.8/lib/python3.8/unittest/mock.py\u001b[0m in \u001b[0;36m__call__\u001b[0;34m(self, *args, **kwargs)\u001b[0m\n\u001b[1;32m   1073\u001b[0m         \u001b[0mself\u001b[0m\u001b[0;34m.\u001b[0m\u001b[0m_mock_check_sig\u001b[0m\u001b[0;34m(\u001b[0m\u001b[0;34m*\u001b[0m\u001b[0margs\u001b[0m\u001b[0;34m,\u001b[0m \u001b[0;34m**\u001b[0m\u001b[0mkwargs\u001b[0m\u001b[0;34m)\u001b[0m\u001b[0;34m\u001b[0m\u001b[0;34m\u001b[0m\u001b[0m\n\u001b[1;32m   1074\u001b[0m         \u001b[0mself\u001b[0m\u001b[0;34m.\u001b[0m\u001b[0m_increment_mock_call\u001b[0m\u001b[0;34m(\u001b[0m\u001b[0;34m*\u001b[0m\u001b[0margs\u001b[0m\u001b[0;34m,\u001b[0m \u001b[0;34m**\u001b[0m\u001b[0mkwargs\u001b[0m\u001b[0;34m)\u001b[0m\u001b[0;34m\u001b[0m\u001b[0;34m\u001b[0m\u001b[0m\n\u001b[0;32m-> 1075\u001b[0;31m         \u001b[0;32mreturn\u001b[0m \u001b[0mself\u001b[0m\u001b[0;34m.\u001b[0m\u001b[0m_mock_call\u001b[0m\u001b[0;34m(\u001b[0m\u001b[0;34m*\u001b[0m\u001b[0margs\u001b[0m\u001b[0;34m,\u001b[0m \u001b[0;34m**\u001b[0m\u001b[0mkwargs\u001b[0m\u001b[0;34m)\u001b[0m\u001b[0;34m\u001b[0m\u001b[0;34m\u001b[0m\u001b[0m\n\u001b[0m\u001b[1;32m   1076\u001b[0m \u001b[0;34m\u001b[0m\u001b[0m\n\u001b[1;32m   1077\u001b[0m \u001b[0;34m\u001b[0m\u001b[0m\n",
      "\u001b[0;32m/Library/Frameworks/Python.framework/Versions/3.8/lib/python3.8/unittest/mock.py\u001b[0m in \u001b[0;36m_mock_call\u001b[0;34m(self, *args, **kwargs)\u001b[0m\n\u001b[1;32m   1077\u001b[0m \u001b[0;34m\u001b[0m\u001b[0m\n\u001b[1;32m   1078\u001b[0m     \u001b[0;32mdef\u001b[0m \u001b[0m_mock_call\u001b[0m\u001b[0;34m(\u001b[0m\u001b[0mself\u001b[0m\u001b[0;34m,\u001b[0m \u001b[0;34m/\u001b[0m\u001b[0;34m,\u001b[0m \u001b[0;34m*\u001b[0m\u001b[0margs\u001b[0m\u001b[0;34m,\u001b[0m \u001b[0;34m**\u001b[0m\u001b[0mkwargs\u001b[0m\u001b[0;34m)\u001b[0m\u001b[0;34m:\u001b[0m\u001b[0;34m\u001b[0m\u001b[0;34m\u001b[0m\u001b[0m\n\u001b[0;32m-> 1079\u001b[0;31m         \u001b[0;32mreturn\u001b[0m \u001b[0mself\u001b[0m\u001b[0;34m.\u001b[0m\u001b[0m_execute_mock_call\u001b[0m\u001b[0;34m(\u001b[0m\u001b[0;34m*\u001b[0m\u001b[0margs\u001b[0m\u001b[0;34m,\u001b[0m \u001b[0;34m**\u001b[0m\u001b[0mkwargs\u001b[0m\u001b[0;34m)\u001b[0m\u001b[0;34m\u001b[0m\u001b[0;34m\u001b[0m\u001b[0m\n\u001b[0m\u001b[1;32m   1080\u001b[0m \u001b[0;34m\u001b[0m\u001b[0m\n\u001b[1;32m   1081\u001b[0m     \u001b[0;32mdef\u001b[0m \u001b[0m_increment_mock_call\u001b[0m\u001b[0;34m(\u001b[0m\u001b[0mself\u001b[0m\u001b[0;34m,\u001b[0m \u001b[0;34m/\u001b[0m\u001b[0;34m,\u001b[0m \u001b[0;34m*\u001b[0m\u001b[0margs\u001b[0m\u001b[0;34m,\u001b[0m \u001b[0;34m**\u001b[0m\u001b[0mkwargs\u001b[0m\u001b[0;34m)\u001b[0m\u001b[0;34m:\u001b[0m\u001b[0;34m\u001b[0m\u001b[0;34m\u001b[0m\u001b[0m\n",
      "\u001b[0;32m/Library/Frameworks/Python.framework/Versions/3.8/lib/python3.8/unittest/mock.py\u001b[0m in \u001b[0;36m_execute_mock_call\u001b[0;34m(self, *args, **kwargs)\u001b[0m\n\u001b[1;32m   1132\u001b[0m         \u001b[0;32mif\u001b[0m \u001b[0meffect\u001b[0m \u001b[0;32mis\u001b[0m \u001b[0;32mnot\u001b[0m \u001b[0;32mNone\u001b[0m\u001b[0;34m:\u001b[0m\u001b[0;34m\u001b[0m\u001b[0;34m\u001b[0m\u001b[0m\n\u001b[1;32m   1133\u001b[0m             \u001b[0;32mif\u001b[0m \u001b[0m_is_exception\u001b[0m\u001b[0;34m(\u001b[0m\u001b[0meffect\u001b[0m\u001b[0;34m)\u001b[0m\u001b[0;34m:\u001b[0m\u001b[0;34m\u001b[0m\u001b[0;34m\u001b[0m\u001b[0m\n\u001b[0;32m-> 1134\u001b[0;31m                 \u001b[0;32mraise\u001b[0m \u001b[0meffect\u001b[0m\u001b[0;34m\u001b[0m\u001b[0;34m\u001b[0m\u001b[0m\n\u001b[0m\u001b[1;32m   1135\u001b[0m             \u001b[0;32melif\u001b[0m \u001b[0;32mnot\u001b[0m \u001b[0m_callable\u001b[0m\u001b[0;34m(\u001b[0m\u001b[0meffect\u001b[0m\u001b[0;34m)\u001b[0m\u001b[0;34m:\u001b[0m\u001b[0;34m\u001b[0m\u001b[0;34m\u001b[0m\u001b[0m\n\u001b[1;32m   1136\u001b[0m                 \u001b[0mresult\u001b[0m \u001b[0;34m=\u001b[0m \u001b[0mnext\u001b[0m\u001b[0;34m(\u001b[0m\u001b[0meffect\u001b[0m\u001b[0;34m)\u001b[0m\u001b[0;34m\u001b[0m\u001b[0;34m\u001b[0m\u001b[0m\n",
      "\u001b[0;31mValueError\u001b[0m: エラーです"
     ]
    }
   ],
   "source": [
    "# 例外クラスやそのインスタンスではその例外が送出される\n",
    "mock.side_effect = ValueError('エラーです')\n",
    "mock()"
   ]
  },
  {
   "cell_type": "markdown",
   "metadata": {},
   "source": [
    "### アサーションメソッドで呼び出され方をテストする"
   ]
  },
  {
   "cell_type": "code",
   "execution_count": 17,
   "metadata": {},
   "outputs": [],
   "source": [
    "mock = Mock(return_value=3)\n",
    "\n",
    "# まだ一度も呼び出されていないことを確認\n",
    "mock.assert_not_called()"
   ]
  },
  {
   "cell_type": "code",
   "execution_count": 18,
   "metadata": {
    "tags": [
     "raises-exception"
    ]
   },
   "outputs": [
    {
     "ename": "AssertionError",
     "evalue": "Expected 'mock' to have been called once. Called 0 times.",
     "output_type": "error",
     "traceback": [
      "\u001b[0;31m---------------------------------------------------------------------------\u001b[0m",
      "\u001b[0;31mAssertionError\u001b[0m                            Traceback (most recent call last)",
      "\u001b[0;32m<ipython-input-18-fa9e269414e1>\u001b[0m in \u001b[0;36m<module>\u001b[0;34m\u001b[0m\n\u001b[1;32m      1\u001b[0m \u001b[0;31m# 一度だけ呼び出されていることを確認\u001b[0m\u001b[0;34m\u001b[0m\u001b[0;34m\u001b[0m\u001b[0;34m\u001b[0m\u001b[0m\n\u001b[1;32m      2\u001b[0m \u001b[0;31m# まだ一度も呼び出されていないのでエラーになる\u001b[0m\u001b[0;34m\u001b[0m\u001b[0;34m\u001b[0m\u001b[0;34m\u001b[0m\u001b[0m\n\u001b[0;32m----> 3\u001b[0;31m \u001b[0mmock\u001b[0m\u001b[0;34m.\u001b[0m\u001b[0massert_called_once\u001b[0m\u001b[0;34m(\u001b[0m\u001b[0;34m)\u001b[0m\u001b[0;34m\u001b[0m\u001b[0;34m\u001b[0m\u001b[0m\n\u001b[0m",
      "\u001b[0;32m/Library/Frameworks/Python.framework/Versions/3.8/lib/python3.8/unittest/mock.py\u001b[0m in \u001b[0;36massert_called_once\u001b[0;34m(self)\u001b[0m\n\u001b[1;32m    884\u001b[0m                       \u001b[0mself\u001b[0m\u001b[0;34m.\u001b[0m\u001b[0mcall_count\u001b[0m\u001b[0;34m,\u001b[0m\u001b[0;34m\u001b[0m\u001b[0;34m\u001b[0m\u001b[0m\n\u001b[1;32m    885\u001b[0m                       self._calls_repr()))\n\u001b[0;32m--> 886\u001b[0;31m             \u001b[0;32mraise\u001b[0m \u001b[0mAssertionError\u001b[0m\u001b[0;34m(\u001b[0m\u001b[0mmsg\u001b[0m\u001b[0;34m)\u001b[0m\u001b[0;34m\u001b[0m\u001b[0;34m\u001b[0m\u001b[0m\n\u001b[0m\u001b[1;32m    887\u001b[0m \u001b[0;34m\u001b[0m\u001b[0m\n\u001b[1;32m    888\u001b[0m     \u001b[0;32mdef\u001b[0m \u001b[0massert_called_with\u001b[0m\u001b[0;34m(\u001b[0m\u001b[0mself\u001b[0m\u001b[0;34m,\u001b[0m \u001b[0;34m/\u001b[0m\u001b[0;34m,\u001b[0m \u001b[0;34m*\u001b[0m\u001b[0margs\u001b[0m\u001b[0;34m,\u001b[0m \u001b[0;34m**\u001b[0m\u001b[0mkwargs\u001b[0m\u001b[0;34m)\u001b[0m\u001b[0;34m:\u001b[0m\u001b[0;34m\u001b[0m\u001b[0;34m\u001b[0m\u001b[0m\n",
      "\u001b[0;31mAssertionError\u001b[0m: Expected 'mock' to have been called once. Called 0 times."
     ]
    }
   ],
   "source": [
    "# 一度だけ呼び出されていることを確認\n",
    "# まだ一度も呼び出されていないのでエラーになる\n",
    "mock.assert_called_once()"
   ]
  },
  {
   "cell_type": "code",
   "execution_count": 19,
   "metadata": {},
   "outputs": [
    {
     "data": {
      "text/plain": [
       "3"
      ]
     },
     "execution_count": 19,
     "metadata": {},
     "output_type": "execute_result"
    }
   ],
   "source": [
    "# 呼び出してみる\n",
    "mock(1, a=2)"
   ]
  },
  {
   "cell_type": "code",
   "execution_count": 20,
   "metadata": {
    "tags": [
     "raises-exception"
    ]
   },
   "outputs": [
    {
     "ename": "AssertionError",
     "evalue": "Expected 'mock' to not have been called. Called 1 times.\nCalls: [call(1, a=2)].",
     "output_type": "error",
     "traceback": [
      "\u001b[0;31m---------------------------------------------------------------------------\u001b[0m",
      "\u001b[0;31mAssertionError\u001b[0m                            Traceback (most recent call last)",
      "\u001b[0;32m<ipython-input-20-533906bc614c>\u001b[0m in \u001b[0;36m<module>\u001b[0;34m\u001b[0m\n\u001b[1;32m      1\u001b[0m \u001b[0;31m# 呼び出されているのでエラー\u001b[0m\u001b[0;34m\u001b[0m\u001b[0;34m\u001b[0m\u001b[0;34m\u001b[0m\u001b[0m\n\u001b[0;32m----> 2\u001b[0;31m \u001b[0mmock\u001b[0m\u001b[0;34m.\u001b[0m\u001b[0massert_not_called\u001b[0m\u001b[0;34m(\u001b[0m\u001b[0;34m)\u001b[0m\u001b[0;34m\u001b[0m\u001b[0;34m\u001b[0m\u001b[0m\n\u001b[0m",
      "\u001b[0;32m/Library/Frameworks/Python.framework/Versions/3.8/lib/python3.8/unittest/mock.py\u001b[0m in \u001b[0;36massert_not_called\u001b[0;34m(self)\u001b[0m\n\u001b[1;32m    866\u001b[0m                       \u001b[0mself\u001b[0m\u001b[0;34m.\u001b[0m\u001b[0mcall_count\u001b[0m\u001b[0;34m,\u001b[0m\u001b[0;34m\u001b[0m\u001b[0;34m\u001b[0m\u001b[0m\n\u001b[1;32m    867\u001b[0m                       self._calls_repr()))\n\u001b[0;32m--> 868\u001b[0;31m             \u001b[0;32mraise\u001b[0m \u001b[0mAssertionError\u001b[0m\u001b[0;34m(\u001b[0m\u001b[0mmsg\u001b[0m\u001b[0;34m)\u001b[0m\u001b[0;34m\u001b[0m\u001b[0;34m\u001b[0m\u001b[0m\n\u001b[0m\u001b[1;32m    869\u001b[0m \u001b[0;34m\u001b[0m\u001b[0m\n\u001b[1;32m    870\u001b[0m     \u001b[0;32mdef\u001b[0m \u001b[0massert_called\u001b[0m\u001b[0;34m(\u001b[0m\u001b[0mself\u001b[0m\u001b[0;34m)\u001b[0m\u001b[0;34m:\u001b[0m\u001b[0;34m\u001b[0m\u001b[0;34m\u001b[0m\u001b[0m\n",
      "\u001b[0;31mAssertionError\u001b[0m: Expected 'mock' to not have been called. Called 1 times.\nCalls: [call(1, a=2)]."
     ]
    }
   ],
   "source": [
    "# 呼び出されているのでエラー\n",
    "mock.assert_not_called()"
   ]
  },
  {
   "cell_type": "code",
   "execution_count": 21,
   "metadata": {},
   "outputs": [],
   "source": [
    "# 一度だけ呼び出されていることを確認\n",
    "mock.assert_called_once()"
   ]
  },
  {
   "cell_type": "code",
   "execution_count": 22,
   "metadata": {},
   "outputs": [],
   "source": [
    "# 呼び出され方を確認\n",
    "mock.assert_called_once_with(1, a=2)"
   ]
  },
  {
   "cell_type": "code",
   "execution_count": 23,
   "metadata": {
    "tags": [
     "raises-exception"
    ]
   },
   "outputs": [
    {
     "ename": "AssertionError",
     "evalue": "expected call not found.\nExpected: mock(1, a=3)\nActual: mock(1, a=2)",
     "output_type": "error",
     "traceback": [
      "\u001b[0;31m---------------------------------------------------------------------------\u001b[0m",
      "\u001b[0;31mAssertionError\u001b[0m                            Traceback (most recent call last)",
      "\u001b[0;32m<ipython-input-23-95c20c5fceb1>\u001b[0m in \u001b[0;36m<module>\u001b[0;34m\u001b[0m\n\u001b[0;32m----> 1\u001b[0;31m \u001b[0mmock\u001b[0m\u001b[0;34m.\u001b[0m\u001b[0massert_called_once_with\u001b[0m\u001b[0;34m(\u001b[0m\u001b[0;36m1\u001b[0m\u001b[0;34m,\u001b[0m \u001b[0ma\u001b[0m\u001b[0;34m=\u001b[0m\u001b[0;36m3\u001b[0m\u001b[0;34m)\u001b[0m\u001b[0;34m\u001b[0m\u001b[0;34m\u001b[0m\u001b[0m\n\u001b[0m",
      "\u001b[0;32m/Library/Frameworks/Python.framework/Versions/3.8/lib/python3.8/unittest/mock.py\u001b[0m in \u001b[0;36massert_called_once_with\u001b[0;34m(self, *args, **kwargs)\u001b[0m\n\u001b[1;32m    917\u001b[0m                       self._calls_repr()))\n\u001b[1;32m    918\u001b[0m             \u001b[0;32mraise\u001b[0m \u001b[0mAssertionError\u001b[0m\u001b[0;34m(\u001b[0m\u001b[0mmsg\u001b[0m\u001b[0;34m)\u001b[0m\u001b[0;34m\u001b[0m\u001b[0;34m\u001b[0m\u001b[0m\n\u001b[0;32m--> 919\u001b[0;31m         \u001b[0;32mreturn\u001b[0m \u001b[0mself\u001b[0m\u001b[0;34m.\u001b[0m\u001b[0massert_called_with\u001b[0m\u001b[0;34m(\u001b[0m\u001b[0;34m*\u001b[0m\u001b[0margs\u001b[0m\u001b[0;34m,\u001b[0m \u001b[0;34m**\u001b[0m\u001b[0mkwargs\u001b[0m\u001b[0;34m)\u001b[0m\u001b[0;34m\u001b[0m\u001b[0;34m\u001b[0m\u001b[0m\n\u001b[0m\u001b[1;32m    920\u001b[0m \u001b[0;34m\u001b[0m\u001b[0m\n\u001b[1;32m    921\u001b[0m \u001b[0;34m\u001b[0m\u001b[0m\n",
      "\u001b[0;32m/Library/Frameworks/Python.framework/Versions/3.8/lib/python3.8/unittest/mock.py\u001b[0m in \u001b[0;36massert_called_with\u001b[0;34m(self, *args, **kwargs)\u001b[0m\n\u001b[1;32m    905\u001b[0m         \u001b[0;32mif\u001b[0m \u001b[0mexpected\u001b[0m \u001b[0;34m!=\u001b[0m \u001b[0mactual\u001b[0m\u001b[0;34m:\u001b[0m\u001b[0;34m\u001b[0m\u001b[0;34m\u001b[0m\u001b[0m\n\u001b[1;32m    906\u001b[0m             \u001b[0mcause\u001b[0m \u001b[0;34m=\u001b[0m \u001b[0mexpected\u001b[0m \u001b[0;32mif\u001b[0m \u001b[0misinstance\u001b[0m\u001b[0;34m(\u001b[0m\u001b[0mexpected\u001b[0m\u001b[0;34m,\u001b[0m \u001b[0mException\u001b[0m\u001b[0;34m)\u001b[0m \u001b[0;32melse\u001b[0m \u001b[0;32mNone\u001b[0m\u001b[0;34m\u001b[0m\u001b[0;34m\u001b[0m\u001b[0m\n\u001b[0;32m--> 907\u001b[0;31m             \u001b[0;32mraise\u001b[0m \u001b[0mAssertionError\u001b[0m\u001b[0;34m(\u001b[0m\u001b[0m_error_message\u001b[0m\u001b[0;34m(\u001b[0m\u001b[0;34m)\u001b[0m\u001b[0;34m)\u001b[0m \u001b[0;32mfrom\u001b[0m \u001b[0mcause\u001b[0m\u001b[0;34m\u001b[0m\u001b[0;34m\u001b[0m\u001b[0m\n\u001b[0m\u001b[1;32m    908\u001b[0m \u001b[0;34m\u001b[0m\u001b[0m\n\u001b[1;32m    909\u001b[0m \u001b[0;34m\u001b[0m\u001b[0m\n",
      "\u001b[0;31mAssertionError\u001b[0m: expected call not found.\nExpected: mock(1, a=3)\nActual: mock(1, a=2)"
     ]
    }
   ],
   "source": [
    "mock.assert_called_once_with(1, a=3)"
   ]
  },
  {
   "cell_type": "code",
   "execution_count": 24,
   "metadata": {},
   "outputs": [],
   "source": [
    "# 呼び出し回数は確認せず、一部の引数のみを確認\n",
    "from unittest.mock import ANY\n",
    "mock.assert_called_with(1, a=ANY)"
   ]
  },
  {
   "cell_type": "markdown",
   "metadata": {},
   "source": [
    "## patchを使ったオブジェクトの置き換え"
   ]
  },
  {
   "cell_type": "code",
   "execution_count": 25,
   "metadata": {},
   "outputs": [
    {
     "name": "stdout",
     "output_type": "stream",
     "text": [
      "[]\n"
     ]
    }
   ],
   "source": [
    "from booksearch import get_books\n",
    "from unittest.mock import patch\n",
    "\n",
    "# 対話モードでは__main__モジュールから名前を指定する\n",
    "with patch('__main__.get_books') as mock_get_books:\n",
    "    mock_get_books.return_value = []\n",
    "    print(get_books())"
   ]
  },
  {
   "cell_type": "code",
   "execution_count": 26,
   "metadata": {},
   "outputs": [],
   "source": [
    "@patch('__main__.get_books')\n",
    "def test_use_mock(mock_get_books):\n",
    "    mock_get_books.return_value = []\n",
    "    return get_books()"
   ]
  },
  {
   "cell_type": "code",
   "execution_count": 27,
   "metadata": {},
   "outputs": [
    {
     "data": {
      "text/plain": [
       "[]"
      ]
     },
     "execution_count": 27,
     "metadata": {},
     "output_type": "execute_result"
    }
   ],
   "source": [
    "test_use_mock()"
   ]
  },
  {
   "cell_type": "markdown",
   "metadata": {},
   "source": [
    "## mockを利用するテストケースの実例"
   ]
  },
  {
   "cell_type": "code",
   "execution_count": 28,
   "metadata": {},
   "outputs": [],
   "source": [
    "from booksearch import get_books\n",
    "book = get_books(q='python')[0]"
   ]
  },
  {
   "cell_type": "code",
   "execution_count": 29,
   "metadata": {},
   "outputs": [
    {
     "data": {
      "text/plain": [
       "[PosixPath('tests/data/oW63DwAAQBAJ_smallThumbnail.jpeg'),\n",
       " PosixPath('tests/data/oW63DwAAQBAJ_thumbnail.jpeg')]"
      ]
     },
     "execution_count": 29,
     "metadata": {},
     "output_type": "execute_result"
    }
   ],
   "source": [
    "# 実行時に取得されたデータによって結果は異なる\n",
    "book.save_thumbnails('tests/data')"
   ]
  },
  {
   "cell_type": "raw",
   "metadata": {},
   "source": [
    "(注:tests/test_core.py)\n",
    "from unittest.mock import patch\n",
    "（省略）\n",
    "class SaveThumbnailsTest(unittest.TestCase):\n",
    "    （省略）\n",
    "    # テスト対象のsave_thumbnails()が利用する参照名を指定\n",
    "    @patch('booksearch.core.get_data')\n",
    "    def test_save_thumbnails(self, mock_get_data):\n",
    "        from booksearch.core import Book\n",
    "\n",
    "        # 先ほど取得したサムネイル画像データをモックの戻り値にセット\n",
    "        data_path = pathlib.Path(__file__).with_name('data')\n",
    "        mock_get_data.return_value = (\n",
    "            data_path / 'YkGmfbil6L4C_thumbnail.jpeg').read_bytes()\n",
    "\n",
    "        book = Book({'id': '', 'volumeInfo': {\n",
    "            'imageLinks': {\n",
    "                'thumbnail': THUMBNAIL_URL\n",
    "            }}})\n",
    "        filename = book.save_thumbnails(self.tmp.name)[0]\n",
    "\n",
    "        # get_data()呼び出し時の引数を確認\n",
    "        mock_get_data.assert_called_with(THUMBNAIL_URL)\n",
    "\n",
    "        # 保存されたデータを確認\n",
    "        with open(filename, 'rb') as f:\n",
    "            self.assertEqual(data, f.read())"
   ]
  },
  {
   "cell_type": "raw",
   "metadata": {},
   "source": [
    "$ python3 -m unittest -v\n",
    "test_build_url (test_api.BuildUrlTest) ... ok\n",
    "test_build_url_empty_param (test_api.BuildUrlTest) ... ok\n",
    "test_build_url_fail (test_api.BuildUrlTest) ... expected failure\n",
    "test_save_thumbnails (test_core.SaveThumbnailsTest) ... ok\n",
    "\n",
    "----------------------------------------------------------------------\n",
    "Ran 4 tests in 0.040s\n",
    "\n",
    "OK (expected failures=1)"
   ]
  },
  {
   "cell_type": "markdown",
   "metadata": {},
   "source": [
    "# ユースケース別のテストケースの実装"
   ]
  },
  {
   "cell_type": "markdown",
   "metadata": {},
   "source": [
    "## 環境依存のテストをスキップする"
   ]
  },
  {
   "cell_type": "raw",
   "metadata": {},
   "source": [
    "(注:tests/test_api.py)\n",
    "import sys\n",
    "（省略）\n",
    "class BuildUrlTest(unittest.TestCase):\n",
    "    （省略）\n",
    "    # 引数にスキップする理由を渡す\n",
    "    @unittest.skip('this is a skip test')\n",
    "    def test_nothing_skip(self):\n",
    "        pass\n",
    "\n",
    "    # 実行中のPythonバージョンが3.6より大きければスキップ\n",
    "    @unittest.skipIf(sys.version_info > (3, 6),\n",
    "                     'this is a skipIf test')\n",
    "    def test_nothing_skipIf(self):\n",
    "        pass"
   ]
  },
  {
   "cell_type": "raw",
   "metadata": {},
   "source": [
    "$ python3 -m unittest -v\n",
    "test_build_url (test_api.BuildUrlTest) ... ok\n",
    "test_build_url_empty_param (test_api.BuildUrlTest) ... ok\n",
    "test_build_url_fail (test_api.BuildUrlTest) ... expected failure\n",
    "test_nothing_skip (test_api.BuildUrlTest) ... skipped 'this is a skip test'\n",
    "test_nothing_skipIf (test_api.BuildUrlTest) ... skipped 'this is a skipIf test'\n",
    "test_save_thumbnails (test_core.SaveThumbnailsTest) ... ok\n",
    "\n",
    "----------------------------------------------------------------------\n",
    "Ran 6 tests in 0.038s\n",
    "\n",
    "OK (skipped=2, expected failures=1)"
   ]
  },
  {
   "cell_type": "markdown",
   "metadata": {},
   "source": [
    "## 例外の発生をテストする"
   ]
  },
  {
   "cell_type": "raw",
   "metadata": {},
   "source": [
    "(注:tests/test_core.py)\n",
    "from urllib.error import URLError\n",
    "（省略）\n",
    "class GetBooksTest(unittest.TestCase):\n",
    "    def test_get_books_no_connection(self):\n",
    "        from booksearch.core import get_books\n",
    "\n",
    "        # 一時的にネットワークアクセスを遮断\n",
    "        with patch('socket.socket.connect') as mock:\n",
    "            # connect()が呼び出された際に不正な値を返す\n",
    "            mock.return_value = None\n",
    "            with self.assertRaisesRegex(URLError, 'urlopen error'):\n",
    "                # 例外が発生する処理をwithブロック内で実行する\n",
    "                get_books(q='python')"
   ]
  },
  {
   "cell_type": "code",
   "execution_count": 30,
   "metadata": {},
   "outputs": [
    {
     "name": "stdout",
     "output_type": "stream",
     "text": [
      "test_get_books_no_connection (tests.test_core.GetBooksTest) ... ok\n",
      "\n",
      "----------------------------------------------------------------------\n",
      "Ran 1 test in 0.086s\n",
      "\n",
      "OK\n"
     ]
    }
   ],
   "source": [
    "!python3 -m unittest tests.test_core.GetBooksTest -v"
   ]
  },
  {
   "cell_type": "markdown",
   "metadata": {},
   "source": [
    "## 違うパラメータで同じテストを繰り返す"
   ]
  },
  {
   "cell_type": "raw",
   "metadata": {},
   "source": [
    "(注:tests/test_api.py)\n",
    "（省略）\n",
    "class BuildUrlMultiTest(unittest.TestCase):\n",
    "    def test_build_url_multi(self):\n",
    "        from booksearch.api import build_url\n",
    "        base = 'https://www.googleapis.com/books/v1/volumes?'\n",
    "        expected_url = f'{base}q=python'\n",
    "        # 2番目、3番目のテストは失敗する\n",
    "        params = (\n",
    "            (expected_url, {'q': 'python'}),\n",
    "            (expected_url, {'q': 'python', 'maxResults': 1}),\n",
    "            (expected_url, {'q': 'python', 'langRestrict': 'en'}),\n",
    "        )\n",
    "        for expected, param in params:\n",
    "            with self.subTest(**param):\n",
    "                actual = build_url(param)\n",
    "                self.assertEqual(expected, actual)"
   ]
  },
  {
   "cell_type": "code",
   "execution_count": 31,
   "metadata": {},
   "outputs": [
    {
     "name": "stdout",
     "output_type": "stream",
     "text": [
      "\n",
      "======================================================================\n",
      "FAIL: test_build_url_multi (tests.test_api.BuildUrlMultiTest) (q='python', maxResults=1)\n",
      "----------------------------------------------------------------------\n",
      "Traceback (most recent call last):\n",
      "  File \"/Users/suyamar/github/python-practice-book/src/12-unittest/workspace/tests/test_api.py\", line 56, in test_build_url_multi\n",
      "    self.assertEqual(expected, actual)\n",
      "AssertionError: 'https://www.googleapis.com/books/v1/volumes?q=python' != 'https://www.googleapis.com/books/v1/volumes?q=python&maxResults=1'\n",
      "- https://www.googleapis.com/books/v1/volumes?q=python\n",
      "+ https://www.googleapis.com/books/v1/volumes?q=python&maxResults=1\n",
      "?                                                     +++++++++++++\n",
      "\n",
      "\n",
      "======================================================================\n",
      "FAIL: test_build_url_multi (tests.test_api.BuildUrlMultiTest) (q='python', langRestrict='en')\n",
      "----------------------------------------------------------------------\n",
      "Traceback (most recent call last):\n",
      "  File \"/Users/suyamar/github/python-practice-book/src/12-unittest/workspace/tests/test_api.py\", line 56, in test_build_url_multi\n",
      "    self.assertEqual(expected, actual)\n",
      "AssertionError: 'https://www.googleapis.com/books/v1/volumes?q=python' != 'https://www.googleapis.com/books/v1/volumes?q=python&langRestrict=en'\n",
      "- https://www.googleapis.com/books/v1/volumes?q=python\n",
      "+ https://www.googleapis.com/books/v1/volumes?q=python&langRestrict=en\n",
      "?                                                     ++++++++++++++++\n",
      "\n",
      "\n",
      "----------------------------------------------------------------------\n",
      "Ran 1 test in 0.084s\n",
      "\n",
      "FAILED (failures=2)\n"
     ]
    }
   ],
   "source": [
    "!python3 -m unittest tests.test_api.BuildUrlMultiTest"
   ]
  },
  {
   "cell_type": "markdown",
   "metadata": {},
   "source": [
    "## コンテキストマネージャーをテストする"
   ]
  },
  {
   "cell_type": "raw",
   "metadata": {},
   "source": [
    "(注:tests/test_api.py)\n",
    "import json\n",
    "from io import StringIO\n",
    "from unittest.mock import patch, MagicMock\n",
    "（省略）\n",
    "class GetJsonTest(unittest.TestCase):\n",
    "    def test_get_json(self):\n",
    "        from booksearch.api import get_json\n",
    "        with patch('booksearch.api.request.urlopen') as mock_urlopen:\n",
    "            # コンテキストマネージャーのモックを用意\n",
    "            # APIレスポンスになるJSONデータを用意する\n",
    "            expected_response = {'id': 'test'}\n",
    "            fp = StringIO(json.dumps(expected_response))\n",
    "\n",
    "            # MagicMockクラスを使うと__exit__の追加は不要\n",
    "            mock = MagicMock()\n",
    "            mock.__enter__.return_value = fp\n",
    "            # urlopen()の戻り値がコンテキストマネージャー\n",
    "            mock_urlopen.return_value = mock\n",
    "            actual = get_json({'q': 'python'})\n",
    "            self.assertEqual(expected_response, actual)"
   ]
  },
  {
   "cell_type": "code",
   "execution_count": 32,
   "metadata": {},
   "outputs": [
    {
     "name": "stdout",
     "output_type": "stream",
     "text": [
      "test_get_json (tests.test_api.GetJsonTest) ... ok\n",
      "\n",
      "----------------------------------------------------------------------\n",
      "Ran 1 test in 0.057s\n",
      "\n",
      "OK\n"
     ]
    }
   ],
   "source": [
    "!python3 -m unittest tests.test_api.GetJsonTest -v"
   ]
  },
  {
   "cell_type": "markdown",
   "metadata": {},
   "source": [
    "# 本章のまとめ"
   ]
  }
 ],
 "metadata": {
  "kernelspec": {
   "display_name": "Python 3",
   "language": "python",
   "name": "python3"
  },
  "language_info": {
   "codemirror_mode": {
    "name": "ipython",
    "version": 3
   },
   "file_extension": ".py",
   "mimetype": "text/x-python",
   "name": "python",
   "nbconvert_exporter": "python",
   "pygments_lexer": "ipython3",
   "version": "3.8.1"
  }
 },
 "nbformat": 4,
 "nbformat_minor": 4
}
