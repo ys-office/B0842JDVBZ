{
 "cells": [
  {
   "cell_type": "markdown",
   "metadata": {},
   "source": [
    "# 作成するアプリケーション"
   ]
  },
  {
   "cell_type": "markdown",
   "metadata": {},
   "source": [
    "## LGTM画像を自動生成するコマンドラインツール"
   ]
  },
  {
   "cell_type": "raw",
   "metadata": {},
   "source": [
    "Notebook環境はすでにPython環境内であるため仮想環境の有効化はできません。"
   ]
  },
  {
   "cell_type": "code",
   "execution_count": 1,
   "metadata": {},
   "outputs": [
    {
     "name": "stdout",
     "output_type": "stream",
     "text": [
      "Collecting lgtm from git+https://github.com/rhoboro/lgtm#egg=lgtm\n",
      "  Cloning https://github.com/rhoboro/lgtm to /private/var/folders/jp/08fw_dmn09q2rcvk5tjzn2fm0000gn/T/pip-install-3oa5tzrb/lgtm\n",
      "  Running command git clone -q https://github.com/rhoboro/lgtm /private/var/folders/jp/08fw_dmn09q2rcvk5tjzn2fm0000gn/T/pip-install-3oa5tzrb/lgtm\n",
      "Collecting Click (from lgtm)\n",
      "\u001b[?25l  Downloading https://files.pythonhosted.org/packages/fa/37/45185cb5abbc30d7257104c434fe0b07e5a195a6847506c074527aa599ec/Click-7.0-py2.py3-none-any.whl (81kB)\n",
      "\u001b[K     |████████████████████████████████| 81kB 1.3MB/s eta 0:00:01\n",
      "\u001b[?25hCollecting Pillow (from lgtm)\n",
      "\u001b[?25l  Downloading https://files.pythonhosted.org/packages/c3/d5/6cf564fe747f573d0a7cd799b24eb9fe9a37500c6d62b56a725e03268a9c/Pillow-6.2.1-cp38-cp38-macosx_10_9_x86_64.whl (2.1MB)\n",
      "\u001b[K     |████████████████████████████████| 2.1MB 1.5MB/s eta 0:00:01\n",
      "\u001b[?25hCollecting requests (from lgtm)\n",
      "\u001b[?25l  Downloading https://files.pythonhosted.org/packages/51/bd/23c926cd341ea6b7dd0b2a00aba99ae0f828be89d72b2190f27c11d4b7fb/requests-2.22.0-py2.py3-none-any.whl (57kB)\n",
      "\u001b[K     |████████████████████████████████| 61kB 16.9MB/s eta 0:00:01\n",
      "\u001b[?25hCollecting idna<2.9,>=2.5 (from requests->lgtm)\n",
      "\u001b[?25l  Downloading https://files.pythonhosted.org/packages/14/2c/cd551d81dbe15200be1cf41cd03869a46fe7226e7450af7a6545bfc474c9/idna-2.8-py2.py3-none-any.whl (58kB)\n",
      "\u001b[K     |████████████████████████████████| 61kB 19.3MB/s eta 0:00:01\n",
      "\u001b[?25hCollecting certifi>=2017.4.17 (from requests->lgtm)\n",
      "\u001b[?25l  Downloading https://files.pythonhosted.org/packages/b9/63/df50cac98ea0d5b006c55a399c3bf1db9da7b5a24de7890bc9cfd5dd9e99/certifi-2019.11.28-py2.py3-none-any.whl (156kB)\n",
      "\u001b[K     |████████████████████████████████| 163kB 5.1MB/s eta 0:00:01\n",
      "\u001b[?25hCollecting urllib3!=1.25.0,!=1.25.1,<1.26,>=1.21.1 (from requests->lgtm)\n",
      "\u001b[?25l  Downloading https://files.pythonhosted.org/packages/b4/40/a9837291310ee1ccc242ceb6ebfd9eb21539649f193a7c8c86ba15b98539/urllib3-1.25.7-py2.py3-none-any.whl (125kB)\n",
      "\u001b[K     |████████████████████████████████| 133kB 4.6MB/s eta 0:00:01\n",
      "\u001b[?25hCollecting chardet<3.1.0,>=3.0.2 (from requests->lgtm)\n",
      "\u001b[?25l  Downloading https://files.pythonhosted.org/packages/bc/a9/01ffebfb562e4274b6487b4bb1ddec7ca55ec7510b22e4c51f14098443b8/chardet-3.0.4-py2.py3-none-any.whl (133kB)\n",
      "\u001b[K     |████████████████████████████████| 143kB 6.6MB/s eta 0:00:01\n",
      "\u001b[?25hInstalling collected packages: Click, Pillow, idna, certifi, urllib3, chardet, requests, lgtm\n",
      "  Running setup.py install for lgtm ... \u001b[?25ldone\n",
      "\u001b[?25hSuccessfully installed Click-7.0 Pillow-6.2.1 certifi-2019.11.28 chardet-3.0.4 idna-2.8 lgtm-1.0.0 requests-2.22.0 urllib3-1.25.7\n",
      "\u001b[33mWARNING: You are using pip version 19.2.3, however version 19.3.1 is available.\n",
      "You should consider upgrading via the 'pip install --upgrade pip' command.\u001b[0m\n",
      "Note: you may need to restart the kernel to use updated packages.\n"
     ]
    }
   ],
   "source": [
    "%pip install git+https://github.com/rhoboro/lgtm#egg=lgtm"
   ]
  },
  {
   "cell_type": "code",
   "execution_count": 2,
   "metadata": {},
   "outputs": [
    {
     "name": "stdout",
     "output_type": "stream",
     "text": [
      "Usage: lgtm [OPTIONS] KEYWORD\n",
      "\n",
      "  LGTM画像生成ツール\n",
      "\n",
      "Options:\n",
      "  -m, --message TEXT  画像に乗せる文字列  [default: LGTM]\n",
      "  --help              Show this message and exit.\n"
     ]
    }
   ],
   "source": [
    "# ヘルプの表示\n",
    "!lgtm --help"
   ]
  },
  {
   "cell_type": "code",
   "execution_count": 3,
   "metadata": {},
   "outputs": [],
   "source": [
    "# 「book」で画像検索を行いoutput.pngを生成\n",
    "# キーワードの代わりに画像パスや画像URLも指定できる\n",
    "!lgtm book"
   ]
  },
  {
   "cell_type": "markdown",
   "metadata": {},
   "source": [
    "## 利用する主なパッケージ"
   ]
  },
  {
   "cell_type": "markdown",
   "metadata": {},
   "source": [
    "### requests ── HTTPクライアントライブラリ"
   ]
  },
  {
   "cell_type": "code",
   "execution_count": 4,
   "metadata": {},
   "outputs": [
    {
     "name": "stdout",
     "output_type": "stream",
     "text": [
      "Requirement already satisfied: requests==2.22.0 in ./venv/lib/python3.8/site-packages (2.22.0)\n",
      "Requirement already satisfied: certifi>=2017.4.17 in ./venv/lib/python3.8/site-packages (from requests==2.22.0) (2019.11.28)\n",
      "Requirement already satisfied: urllib3!=1.25.0,!=1.25.1,<1.26,>=1.21.1 in ./venv/lib/python3.8/site-packages (from requests==2.22.0) (1.25.7)\n",
      "Requirement already satisfied: chardet<3.1.0,>=3.0.2 in ./venv/lib/python3.8/site-packages (from requests==2.22.0) (3.0.4)\n",
      "Requirement already satisfied: idna<2.9,>=2.5 in ./venv/lib/python3.8/site-packages (from requests==2.22.0) (2.8)\n",
      "\u001b[33mWARNING: You are using pip version 19.2.3, however version 19.3.1 is available.\n",
      "You should consider upgrading via the 'pip install --upgrade pip' command.\u001b[0m\n",
      "Note: you may need to restart the kernel to use updated packages.\n"
     ]
    }
   ],
   "source": [
    "# requestsのインストール\n",
    "%pip install requests==2.22.0"
   ]
  },
  {
   "cell_type": "code",
   "execution_count": 5,
   "metadata": {},
   "outputs": [
    {
     "data": {
      "text/plain": [
       "{'args': {'q': 'python'},\n",
       " 'headers': {'Accept-Encoding': 'identity',\n",
       "  'Host': 'httpbin.org',\n",
       "  'User-Agent': 'Python-urllib/3.8'},\n",
       " 'origin': '153.182.176.137, 153.182.176.137',\n",
       " 'url': 'https://httpbin.org/get?q=python'}"
      ]
     },
     "execution_count": 5,
     "metadata": {},
     "output_type": "execute_result"
    }
   ],
   "source": [
    "from urllib import request, parse, error\n",
    "import json\n",
    "query = parse.urlencode({'q': 'python'})\n",
    "\n",
    "# httpbinはリクエストの内容を返してくれる\n",
    "url = f'https://httpbin.org/get?{query}'\n",
    "try:\n",
    "    with request.urlopen(url) as f:\n",
    "        res = f.read().decode('utf-8')\n",
    "except error.HTTPError as e:\n",
    "    print(e)\n",
    "\n",
    "json.loads(res)"
   ]
  },
  {
   "cell_type": "code",
   "execution_count": 6,
   "metadata": {},
   "outputs": [
    {
     "data": {
      "text/plain": [
       "{'args': {'q': 'python'},\n",
       " 'headers': {'Accept': '*/*',\n",
       "  'Accept-Encoding': 'gzip, deflate',\n",
       "  'Host': 'httpbin.org',\n",
       "  'User-Agent': 'python-requests/2.22.0'},\n",
       " 'origin': '153.182.176.137, 153.182.176.137',\n",
       " 'url': 'https://httpbin.org/get?q=python'}"
      ]
     },
     "execution_count": 6,
     "metadata": {},
     "output_type": "execute_result"
    }
   ],
   "source": [
    "import requests\n",
    "res = requests.get('https://httpbin.org/get',\n",
    "                   params={'q': 'python'})\n",
    "res.json()"
   ]
  },
  {
   "cell_type": "code",
   "execution_count": 7,
   "metadata": {},
   "outputs": [],
   "source": [
    "res = requests.post('https://httpbin.org/post',\n",
    "                    data={'q': 'python'})"
   ]
  },
  {
   "cell_type": "code",
   "execution_count": 8,
   "metadata": {},
   "outputs": [
    {
     "data": {
      "text/plain": [
       "{'q': 'python'}"
      ]
     },
     "execution_count": 8,
     "metadata": {},
     "output_type": "execute_result"
    }
   ],
   "source": [
    "res.json()['form']"
   ]
  },
  {
   "cell_type": "markdown",
   "metadata": {},
   "source": [
    "### Click ── コマンドラインツール作成ライブラリ"
   ]
  },
  {
   "cell_type": "code",
   "execution_count": 9,
   "metadata": {},
   "outputs": [
    {
     "name": "stdout",
     "output_type": "stream",
     "text": [
      "Requirement already satisfied: Click==7.0 in ./venv/lib/python3.8/site-packages (7.0)\n",
      "\u001b[33mWARNING: You are using pip version 19.2.3, however version 19.3.1 is available.\n",
      "You should consider upgrading via the 'pip install --upgrade pip' command.\u001b[0m\n",
      "Note: you may need to restart the kernel to use updated packages.\n"
     ]
    }
   ],
   "source": [
    "# Clickのインストール\n",
    "%pip install Click==7.0"
   ]
  },
  {
   "cell_type": "code",
   "execution_count": 10,
   "metadata": {},
   "outputs": [
    {
     "name": "stdout",
     "output_type": "stream",
     "text": [
      "import click\n",
      "\n",
      "@click.command()\n",
      "@click.option('--words', default='Hello')\n",
      "@click.argument('name')\n",
      "def greet(name, words):\n",
      "    click.echo(f'{words}, {name}!')\n",
      "\n",
      "if __name__ == '__main__':\n",
      "    greet()"
     ]
    }
   ],
   "source": [
    "!cat greet.py"
   ]
  },
  {
   "cell_type": "code",
   "execution_count": 11,
   "metadata": {},
   "outputs": [
    {
     "name": "stdout",
     "output_type": "stream",
     "text": [
      "Hello, rhoboro!\n"
     ]
    }
   ],
   "source": [
    "!python3 greet.py rhoboro"
   ]
  },
  {
   "cell_type": "code",
   "execution_count": 12,
   "metadata": {},
   "outputs": [
    {
     "name": "stdout",
     "output_type": "stream",
     "text": [
      "Hi, rhoboro!\n"
     ]
    }
   ],
   "source": [
    "!python3 greet.py rhoboro --words Hi"
   ]
  },
  {
   "cell_type": "markdown",
   "metadata": {},
   "source": [
    "### Pillow ── 画像処理ライブラリ"
   ]
  },
  {
   "cell_type": "code",
   "execution_count": 13,
   "metadata": {},
   "outputs": [
    {
     "name": "stdout",
     "output_type": "stream",
     "text": [
      "Requirement already satisfied: Pillow==6.2.1 in ./venv/lib/python3.8/site-packages (6.2.1)\n",
      "\u001b[33mWARNING: You are using pip version 19.2.3, however version 19.3.1 is available.\n",
      "You should consider upgrading via the 'pip install --upgrade pip' command.\u001b[0m\n",
      "Note: you may need to restart the kernel to use updated packages.\n"
     ]
    }
   ],
   "source": [
    "# Pillowのインストール\n",
    "%pip install Pillow==6.2.1"
   ]
  },
  {
   "cell_type": "code",
   "execution_count": 14,
   "metadata": {},
   "outputs": [],
   "source": [
    "import os\n",
    "from PIL import Image\n",
    "def thumbnail(infile, size=(128, 128)):\n",
    "    outfile = os.path.splitext(\n",
    "        infile)[0] + \".thumbnail\"\n",
    "    try:\n",
    "        im = Image.open(infile)\n",
    "        im.thumbnail(size)\n",
    "        im.save(outfile, \"JPEG\")\n",
    "    except IOError:\n",
    "        print(\"cannot create thumbnail for\", infile)"
   ]
  },
  {
   "cell_type": "code",
   "execution_count": 15,
   "metadata": {},
   "outputs": [],
   "source": [
    "# 任意のJPEGファイルを指定する\n",
    "thumbnail('dog.jpg')"
   ]
  },
  {
   "cell_type": "markdown",
   "metadata": {},
   "source": [
    "# プロジェクトの作成"
   ]
  },
  {
   "cell_type": "markdown",
   "metadata": {},
   "source": [
    "## Gitの利用"
   ]
  },
  {
   "cell_type": "raw",
   "metadata": {},
   "source": [
    "!mkdir workspace"
   ]
  },
  {
   "cell_type": "code",
   "execution_count": 16,
   "metadata": {},
   "outputs": [
    {
     "name": "stdout",
     "output_type": "stream",
     "text": [
      "/Users/suyamar/github/python-practice-book/src/13-application/workspace\n"
     ]
    }
   ],
   "source": [
    "%cd workspace"
   ]
  },
  {
   "cell_type": "code",
   "execution_count": 17,
   "metadata": {},
   "outputs": [
    {
     "name": "stdout",
     "output_type": "stream",
     "text": [
      "Reinitialized existing Git repository in /Users/suyamar/github/python-practice-book/src/13-application/workspace/.git/\n"
     ]
    }
   ],
   "source": [
    "!git init"
   ]
  },
  {
   "cell_type": "markdown",
   "metadata": {},
   "source": [
    "### .gitignoreファイルの作成"
   ]
  },
  {
   "cell_type": "raw",
   "metadata": {},
   "source": [
    "# 下記URLの内容を.gitignoreという名前でファイルに保存\n",
    "# 環境に応じてキーワードを変えたり内容を編集する\n",
    "# https://www.gitignore.io/api/macos,python\n",
    "!git add ."
   ]
  },
  {
   "cell_type": "code",
   "execution_count": 18,
   "metadata": {},
   "outputs": [],
   "source": [
    "# gitインストール直後の場合は下記を実行してください\n",
    "!git config --global user.email \"you@example.com\"\n",
    "!git config --global user.name \"Your Name\""
   ]
  },
  {
   "cell_type": "raw",
   "metadata": {},
   "source": [
    "!git commit -m '.gitignoreを追加'"
   ]
  },
  {
   "cell_type": "markdown",
   "metadata": {},
   "source": [
    "### GitHubでのソースコード管理"
   ]
  },
  {
   "cell_type": "raw",
   "metadata": {},
   "source": [
    "$ git remote add origin \\\n",
    "  git@github.com:<YOUR_ACCOUNT>/lgtm.git\n",
    "$ git push -u origin master"
   ]
  },
  {
   "cell_type": "markdown",
   "metadata": {},
   "source": [
    "## パッケージのひな型作成"
   ]
  },
  {
   "cell_type": "code",
   "execution_count": 19,
   "metadata": {},
   "outputs": [
    {
     "name": "stdout",
     "output_type": "stream",
     "text": [
      "Click==7.0\n",
      "Pillow==6.2.1\n",
      "requests==2.22.0"
     ]
    }
   ],
   "source": [
    "!cat requirements.txt"
   ]
  },
  {
   "cell_type": "raw",
   "metadata": {},
   "source": [
    "Notebook環境はすでにPython環境内であるため仮想環境の有効化はできません。"
   ]
  },
  {
   "cell_type": "raw",
   "metadata": {},
   "source": [
    "$ python3 -m venv venv\n",
    "$ . venv/bin/activate"
   ]
  },
  {
   "cell_type": "code",
   "execution_count": 20,
   "metadata": {},
   "outputs": [
    {
     "name": "stdout",
     "output_type": "stream",
     "text": [
      "Requirement already satisfied: Click==7.0 in /Users/suyamar/github/python-practice-book/src/13-application/venv/lib/python3.8/site-packages (from -r requirements.txt (line 1)) (7.0)\n",
      "Requirement already satisfied: Pillow==6.2.1 in /Users/suyamar/github/python-practice-book/src/13-application/venv/lib/python3.8/site-packages (from -r requirements.txt (line 2)) (6.2.1)\n",
      "Requirement already satisfied: requests==2.22.0 in /Users/suyamar/github/python-practice-book/src/13-application/venv/lib/python3.8/site-packages (from -r requirements.txt (line 3)) (2.22.0)\n",
      "Requirement already satisfied: chardet<3.1.0,>=3.0.2 in /Users/suyamar/github/python-practice-book/src/13-application/venv/lib/python3.8/site-packages (from requests==2.22.0->-r requirements.txt (line 3)) (3.0.4)\n",
      "Requirement already satisfied: certifi>=2017.4.17 in /Users/suyamar/github/python-practice-book/src/13-application/venv/lib/python3.8/site-packages (from requests==2.22.0->-r requirements.txt (line 3)) (2019.11.28)\n",
      "Requirement already satisfied: idna<2.9,>=2.5 in /Users/suyamar/github/python-practice-book/src/13-application/venv/lib/python3.8/site-packages (from requests==2.22.0->-r requirements.txt (line 3)) (2.8)\n",
      "Requirement already satisfied: urllib3!=1.25.0,!=1.25.1,<1.26,>=1.21.1 in /Users/suyamar/github/python-practice-book/src/13-application/venv/lib/python3.8/site-packages (from requests==2.22.0->-r requirements.txt (line 3)) (1.25.7)\n",
      "\u001b[33mWARNING: You are using pip version 19.2.3, however version 19.3.1 is available.\n",
      "You should consider upgrading via the 'pip install --upgrade pip' command.\u001b[0m\n",
      "Note: you may need to restart the kernel to use updated packages.\n"
     ]
    }
   ],
   "source": [
    "%pip install -r requirements.txt"
   ]
  },
  {
   "cell_type": "code",
   "execution_count": 21,
   "metadata": {},
   "outputs": [
    {
     "name": "stdout",
     "output_type": "stream",
     "text": [
      "Note: you may need to restart the kernel to use updated packages.\n"
     ]
    }
   ],
   "source": [
    "%pip freeze > requirements.lock"
   ]
  },
  {
   "cell_type": "markdown",
   "metadata": {},
   "source": [
    "### lgtmパッケージの作成"
   ]
  },
  {
   "cell_type": "raw",
   "metadata": {},
   "source": [
    "!mkdir lgtm"
   ]
  },
  {
   "cell_type": "code",
   "execution_count": 22,
   "metadata": {},
   "outputs": [],
   "source": [
    "# 空の__init__.pyを作成\n",
    "# Windowsの場合は type nul > lgtm/__init__.py\n",
    "!touch lgtm/__init__.py"
   ]
  },
  {
   "cell_type": "raw",
   "metadata": {},
   "source": [
    "(注:lgtm/core.py)\n",
    "import click\n",
    "\n",
    "@click.command()\n",
    "def cli():\n",
    "    \"\"\"LGTM画像生成ツール\"\"\"\n",
    "    lgtm()\n",
    "    click.echo('lgtm')  # 動作確認用\n",
    "\n",
    "\n",
    "def lgtm():\n",
    "    # ここにロジックを追加していく\n",
    "    pass"
   ]
  },
  {
   "cell_type": "raw",
   "metadata": {},
   "source": [
    "(注:main.py)\n",
    "from lgtm import core\n",
    "\n",
    "if __name__ == '__main__':\n",
    "    core.cli()"
   ]
  },
  {
   "cell_type": "raw",
   "metadata": {},
   "source": [
    "(venv) $ python3 main.py\n",
    "lgtm"
   ]
  },
  {
   "cell_type": "raw",
   "metadata": {},
   "source": [
    "!git add ."
   ]
  },
  {
   "cell_type": "raw",
   "metadata": {},
   "source": [
    "!git commit -m 'プロジェクトのひな型を作成'"
   ]
  },
  {
   "cell_type": "raw",
   "metadata": {},
   "source": [
    "(venv) $ git push"
   ]
  },
  {
   "cell_type": "markdown",
   "metadata": {},
   "source": [
    "### テストコードの作成"
   ]
  },
  {
   "cell_type": "raw",
   "metadata": {},
   "source": [
    "(注:tests/test_core.py)\n",
    "import unittest\n",
    "\n",
    "class LgtmTest(unittest.TestCase):\n",
    "    def test_lgtm(self):\n",
    "        from lgtm.core import lgtm\n",
    "        self.assertIsNone(lgtm())"
   ]
  },
  {
   "cell_type": "raw",
   "metadata": {},
   "source": [
    "# ユニットテストを実行\n",
    "(venv) $ python -m unittest -v\n",
    "test_lgtm (test_core.LgtmTest) ... ok\n",
    "\n",
    "----------------------------------------------------------------------\n",
    "Ran 1 test in 0.017s\n",
    "\n",
    "OK"
   ]
  },
  {
   "cell_type": "raw",
   "metadata": {},
   "source": [
    "!git add ."
   ]
  },
  {
   "cell_type": "raw",
   "metadata": {},
   "source": [
    "!git commit -m 'coreモジュールのテストを作成'"
   ]
  },
  {
   "cell_type": "raw",
   "metadata": {},
   "source": [
    "(venv) $ git push"
   ]
  },
  {
   "cell_type": "markdown",
   "metadata": {},
   "source": [
    "# 継続的インテグレーションの導入"
   ]
  },
  {
   "cell_type": "markdown",
   "metadata": {},
   "source": [
    "## CircleCIでテスト自動化"
   ]
  },
  {
   "cell_type": "markdown",
   "metadata": {},
   "source": [
    "### プロジェクトの追加"
   ]
  },
  {
   "cell_type": "markdown",
   "metadata": {},
   "source": [
    "### config.ymlの追加"
   ]
  },
  {
   "cell_type": "code",
   "execution_count": 23,
   "metadata": {},
   "outputs": [
    {
     "name": "stdout",
     "output_type": "stream",
     "text": [
      "version: 2\n",
      "jobs:\n",
      " setup_dependencies:\n",
      "   docker:\n",
      "     - image: circleci/python:3.8.1\n",
      "   steps:\n",
      "     - checkout\n",
      "     - restore_cache:\n",
      "         key: deps-{{ checksum \"requirements.lock\" }}\n",
      "     - run:\n",
      "         command: |\n",
      "           pip install --user -r requirements.lock\n",
      "     - save_cache:\n",
      "         key: deps-{{ checksum \"requirements.lock\" }}\n",
      "         paths:\n",
      "           - \"~/.local\"\n",
      " test:\n",
      "   docker:\n",
      "     - image: circleci/python:3.8.1\n",
      "   steps:\n",
      "     - checkout\n",
      "     - restore_cache:\n",
      "         key: deps-{{ checksum \"requirements.lock\" }}\n",
      "     - run:\n",
      "         command: |\n",
      "           python3 -m unittest -v\n",
      "workflows:\n",
      "  version: 2\n",
      "  all:\n",
      "    jobs:\n",
      "      - setup_dependencies\n",
      "      - test:\n",
      "          requires:\n",
      "            - setup_dependencies\n"
     ]
    }
   ],
   "source": [
    "!cat .circleci/config.yml"
   ]
  },
  {
   "cell_type": "markdown",
   "metadata": {},
   "source": [
    "## テストの実行と結果の確認"
   ]
  },
  {
   "cell_type": "raw",
   "metadata": {},
   "source": [
    "!git add ."
   ]
  },
  {
   "cell_type": "raw",
   "metadata": {},
   "source": [
    "!git commit -m 'CircleCIの設定ファイルを追加'"
   ]
  },
  {
   "cell_type": "raw",
   "metadata": {},
   "source": [
    "(venv) $ git push"
   ]
  },
  {
   "cell_type": "markdown",
   "metadata": {},
   "source": [
    "# アプリケーションの開発"
   ]
  },
  {
   "cell_type": "markdown",
   "metadata": {},
   "source": [
    "## コマンドライン引数の取得"
   ]
  },
  {
   "cell_type": "markdown",
   "metadata": {},
   "source": [
    "### 画像ファイルのソース情報とメッセージを受け取る"
   ]
  },
  {
   "cell_type": "raw",
   "metadata": {},
   "source": [
    "(注:lgtm/core.py)\n",
    "@click.command()\n",
    "@click.option('--message', '-m', default='LGTM',\n",
    "              show_default=True, help='画像に乗せる文字列')\n",
    "@click.argument('keyword')\n",
    "def cli(keyword, message):\n",
    "    \"\"\"LGTM画像生成ツール\"\"\"\n",
    "    lgtm(keyword, message)\n",
    "    click.echo('lgtm')  # 動作確認用\n",
    "\n",
    "\n",
    "def lgtm(keyword, message):\n",
    "    # ここにロジックを追加していく\n",
    "    pass"
   ]
  },
  {
   "cell_type": "code",
   "execution_count": 24,
   "metadata": {},
   "outputs": [
    {
     "name": "stdout",
     "output_type": "stream",
     "text": [
      "Usage: main.py [OPTIONS] KEYWORD\n",
      "\n",
      "  LGTM画像生成ツール\n",
      "\n",
      "Options:\n",
      "  -m, --message TEXT  画像に乗せる文字列  [default: LGTM]\n",
      "  --help              Show this message and exit.\n"
     ]
    }
   ],
   "source": [
    "!python3 main.py --help"
   ]
  },
  {
   "cell_type": "raw",
   "metadata": {},
   "source": [
    "!git add ."
   ]
  },
  {
   "cell_type": "raw",
   "metadata": {},
   "source": [
    "!git commit -m 'コマンドライン引数を受け取る'"
   ]
  },
  {
   "cell_type": "raw",
   "metadata": {},
   "source": [
    "(venv) $ git push"
   ]
  },
  {
   "cell_type": "markdown",
   "metadata": {},
   "source": [
    "### テストコードの修正"
   ]
  },
  {
   "cell_type": "raw",
   "metadata": {},
   "source": [
    "(注:tests/test_core.py)\n",
    "（省略）\n",
    "    def test_lgtm(self):\n",
    "        from lgtm.core import lgtm\n",
    "        self.assertIsNone(lgtm('./python.jpeg', 'LGTM'))"
   ]
  },
  {
   "cell_type": "raw",
   "metadata": {},
   "source": [
    "(venv) $ python3 -m unittest -v\n",
    "test_lgtm (test_core.LgtmTest) ... ok\n",
    "\n",
    "----------------------------------------------------------------------\n",
    "Ran 1 test in 0.017s\n",
    "\n",
    "OK"
   ]
  },
  {
   "cell_type": "raw",
   "metadata": {},
   "source": [
    "!git add ."
   ]
  },
  {
   "cell_type": "raw",
   "metadata": {},
   "source": [
    "!git commit -m 'lgtm/core.pyの変更に伴うテストの修正'（実際は1行）"
   ]
  },
  {
   "cell_type": "raw",
   "metadata": {},
   "source": [
    "(venv) $ git push"
   ]
  },
  {
   "cell_type": "markdown",
   "metadata": {},
   "source": [
    "## 画像の取得"
   ]
  },
  {
   "cell_type": "markdown",
   "metadata": {},
   "source": [
    "### ファイルパスから画像を取得するクラスの実装"
   ]
  },
  {
   "cell_type": "raw",
   "metadata": {},
   "source": [
    "(注:lgtm/image_source.py)\n",
    "from io import BytesIO\n",
    "import requests\n",
    "\n",
    "class LocalImage:\n",
    "    \"\"\"ファイルから画像を取得する\"\"\"\n",
    "\n",
    "    def __init__(self, path):\n",
    "        self._path = path\n",
    "\n",
    "    def get_image(self):\n",
    "        return open(self._path, 'rb')\n",
    "\n",
    "\n",
    "class RemoteImage:\n",
    "    \"\"\"URLから画像を取得する\"\"\"\n",
    "\n",
    "    def __init__(self, path):\n",
    "        self._path = path\n",
    "\n",
    "    def get_image(self):\n",
    "        data = requests.get(self._path)\n",
    "        # バイトデータをファイルオブジェクトに変換\n",
    "        return BytesIO(data.content)"
   ]
  },
  {
   "cell_type": "markdown",
   "metadata": {},
   "source": [
    "### URLから画像を取得するクラスの実装"
   ]
  },
  {
   "cell_type": "raw",
   "metadata": {},
   "source": [
    "(注:lgtm/image_source.py)\n",
    "（省略）\n",
    "class RemoteImage:\n",
    "    \"\"\"URLから画像を取得する\"\"\"\n",
    "\n",
    "    def __init__(self, path):\n",
    "        self._url = path\n",
    "\n",
    "    def get_image(self):\n",
    "        data = requests.get(self._url)\n",
    "        # バイトデータをファイルオブジェクトに変換\n",
    "        return BytesIO(data.content)"
   ]
  },
  {
   "cell_type": "markdown",
   "metadata": {},
   "source": [
    "### 検索キーワードから画像を取得するクラスの実装"
   ]
  },
  {
   "cell_type": "raw",
   "metadata": {},
   "source": [
    "(注:lgtm/image_source.py)\n",
    "（省略）\n",
    "class _LoremFlickr(RemoteImage):\n",
    "    \"\"\"キーワード検索で画像を取得する\"\"\"\n",
    "    LOREM_FLICKR_URL = 'https://loremflickr.com'\n",
    "    WIDTH = 800\n",
    "    HEIGHT = 600\n",
    "\n",
    "    def __init__(self, keyword):\n",
    "        super().__init__(self._build_url(keyword))\n",
    "\n",
    "    def _build_url(self, keyword):\n",
    "        return (f'{self.LOREM_FLICKR_URL}/'\n",
    "                f'{self.WIDTH}/{self.HEIGHT}/{keyword}')\n",
    "\n",
    "\n",
    "KeywordImage = _LoremFlickr"
   ]
  },
  {
   "cell_type": "markdown",
   "metadata": {},
   "source": [
    "### 画像を取得するクラスの利用"
   ]
  },
  {
   "cell_type": "code",
   "execution_count": 25,
   "metadata": {},
   "outputs": [
    {
     "name": "stdout",
     "output_type": "stream",
     "text": [
      "from io import BytesIO\n",
      "import requests\n",
      "from pathlib import Path\n",
      "\n",
      "class LocalImage:\n",
      "    \"\"\"ファイルから画像を取得する\"\"\"\n",
      "\n",
      "    def __init__(self, path):\n",
      "        self._path = path\n",
      "\n",
      "    def get_image(self):\n",
      "        return open(self._path, 'rb')\n",
      "\n",
      "\n",
      "class RemoteImage:\n",
      "    \"\"\"URLから画像を取得する\"\"\"\n",
      "\n",
      "    def __init__(self, path):\n",
      "        self._path = path\n",
      "\n",
      "    def get_image(self):\n",
      "        data = requests.get(self._path)\n",
      "        # バイトデータをファイルオブジェクトに変換\n",
      "        return BytesIO(data.content)\n",
      "\n",
      "class RemoteImage:\n",
      "    \"\"\"URLから画像を取得する\"\"\"\n",
      "\n",
      "    def __init__(self, path):\n",
      "        self._url = path\n",
      "\n",
      "    def get_image(self):\n",
      "        data = requests.get(self._url)\n",
      "        # バイトデータをファイルオブジェクトに変換\n",
      "        return BytesIO(data.content)\n",
      "\n",
      "class _LoremFlickr(RemoteImage):\n",
      "    \"\"\"キーワード検索で画像を取得する\"\"\"\n",
      "    LOREM_FLICKR_URL = 'https://loremflickr.com'\n",
      "    WIDTH = 800\n",
      "    HEIGHT = 600\n",
      "\n",
      "    def __init__(self, keyword):\n",
      "        super().__init__(self._build_url(keyword))\n",
      "\n",
      "    def _build_url(self, keyword):\n",
      "        return (f'{self.LOREM_FLICKR_URL}/'\n",
      "                f'{self.WIDTH}/{self.HEIGHT}/{keyword}')\n",
      "\n",
      "\n",
      "KeywordImage = _LoremFlickr\n",
      "\n",
      "# 関数だがコンストラクタとして利用する\n",
      "def ImageSource(keyword):\n",
      "    \"\"\"最適なイメージソースクラスを返す\"\"\"\n",
      "    if keyword.startswith(('http://', 'https://')):\n",
      "        return RemoteImage(keyword)\n",
      "    elif Path(keyword).exists():\n",
      "        return LocalImage(keyword)\n",
      "    else:\n",
      "        return KeywordImage(keyword)\n",
      "\n",
      "\n",
      "def get_image(keyword):\n",
      "    \"\"\"画像のファイルオブジェクトを返す\"\"\"\n",
      "    return ImageSource(keyword).get_image()"
     ]
    }
   ],
   "source": [
    "!cat lgtm/image_source.py"
   ]
  },
  {
   "cell_type": "markdown",
   "metadata": {},
   "source": [
    "# 画像処理"
   ]
  },
  {
   "cell_type": "markdown",
   "metadata": {},
   "source": [
    "## 文字列を画像上に描画する最小限の実装例"
   ]
  },
  {
   "cell_type": "raw",
   "metadata": {},
   "source": [
    "from importlib import reload\n",
    "reload(Image)\n",
    "reload(ImageDraw)\n",
    "from PIL import Image, ImageDraw\n",
    "# ローカル環境にある任意の画像パスを指定\n",
    "file_path = '../dog.jpg'\n",
    "\n",
    "# ここではファイルパスの文字列を渡しているが\n",
    "# ファイルオブジェクトを渡してもよい\n",
    "image = Image.open(file_path)\n",
    "\n",
    "draw = ImageDraw.Draw(image)\n",
    "\n",
    "# 左上に\"LGTM\"を描画\n",
    "draw.text((0, 0), 'LGTM')\n",
    "\n",
    "image.save('output.png', 'PNG')"
   ]
  },
  {
   "cell_type": "markdown",
   "metadata": {},
   "source": [
    "### 文字列を中央に最適なサイズで描画する"
   ]
  },
  {
   "cell_type": "code",
   "execution_count": 26,
   "metadata": {},
   "outputs": [
    {
     "name": "stdout",
     "output_type": "stream",
     "text": [
      "from PIL import Image, ImageDraw, ImageFont\n",
      "\n",
      "# 画像全体に対するメッセージ描画可能エリアの比率\n",
      "MAX_RATIO = 0.8\n",
      "\n",
      "# フォント関連の定数\n",
      "FONT_MAX_SIZE = 256\n",
      "FONT_MIN_SIZE = 24\n",
      "\n",
      "# WindowsやLinuxではパスが異なる\n",
      "FONT_NAME = '/Library/Fonts/Arial Bold.ttf'\n",
      "FONT_COLOR_WHITE = (255, 255, 255, 0)\n",
      "\n",
      "# アウトプット関連の定数\n",
      "OUTPUT_NAME = 'output.png'\n",
      "OUTPUT_FORMAT = 'PNG'\n",
      "\n",
      "\n",
      "def save_with_message(fp, message):\n",
      "    image = Image.open(fp)\n",
      "    draw = ImageDraw.Draw(image)\n",
      "    # メッセージを描画できる領域のサイズ\n",
      "    # タプルの要素ごとに計算する\n",
      "    image_width, image_height = image.size\n",
      "    message_area_width = image_width * MAX_RATIO\n",
      "    message_area_height = image_height * MAX_RATIO\n",
      "\n",
      "    # フォントサイズを決める\n",
      "    for font_size in range(FONT_MAX_SIZE, FONT_MIN_SIZE,\n",
      "                           -1):\n",
      "        font = ImageFont.truetype(FONT_NAME, font_size)\n",
      "        # 描画に必要なサイズ\n",
      "        text_width, text_height = draw.textsize(\n",
      "            message, font=font)\n",
      "        w = message_area_width - text_width\n",
      "        h = message_area_height - text_height\n",
      "\n",
      "        # 幅、高さともに領域内におさまる値を採用\n",
      "        if w > 0 and h > 0:\n",
      "            position = ((image_width - text_width) / 2,\n",
      "                        (image_height - text_height) / 2)\n",
      "            # メッセージの描画\n",
      "            draw.text(position, message,\n",
      "                      fill=FONT_COLOR_WHITE, font=font)\n",
      "            break\n",
      "\n",
      "    # 画像の保存\n",
      "    image.save(OUTPUT_NAME, OUTPUT_FORMAT)"
     ]
    }
   ],
   "source": [
    "!cat lgtm/drawer.py"
   ]
  },
  {
   "cell_type": "markdown",
   "metadata": {},
   "source": [
    "## 各処理の呼び出し"
   ]
  },
  {
   "cell_type": "code",
   "execution_count": 27,
   "metadata": {},
   "outputs": [
    {
     "name": "stdout",
     "output_type": "stream",
     "text": [
      "import click\n",
      "\n",
      "from lgtm.drawer import save_with_message\n",
      "from lgtm.image_source import get_image\n",
      "\n",
      "@click.command()\n",
      "@click.option('--message', '-m', default='LGTM',\n",
      "              show_default=True, help='画像に乗せる文字列')\n",
      "@click.argument('keyword')\n",
      "def cli(keyword, message):\n",
      "    \"\"\"LGTM画像生成ツール\"\"\"\n",
      "    lgtm(keyword, message)\n",
      "\n",
      "\n",
      "def lgtm(keyword, message):\n",
      "    with get_image(keyword) as fp:\n",
      "        save_with_message(fp, message)"
     ]
    }
   ],
   "source": [
    "!cat lgtm/core.py"
   ]
  },
  {
   "cell_type": "code",
   "execution_count": 28,
   "metadata": {},
   "outputs": [],
   "source": [
    "# 結果の画像は取得できた画像により異なる\n",
    "!python3 main.py book"
   ]
  },
  {
   "cell_type": "markdown",
   "metadata": {},
   "source": [
    "# コマンドとして実行する"
   ]
  },
  {
   "cell_type": "markdown",
   "metadata": {},
   "source": [
    "## setup.pyの作成"
   ]
  },
  {
   "cell_type": "code",
   "execution_count": 29,
   "metadata": {},
   "outputs": [
    {
     "name": "stdout",
     "output_type": "stream",
     "text": [
      "from setuptools import find_packages, setup\n",
      "\n",
      "setup(\n",
      "    name='lgtm',\n",
      "    version='1.0.0',\n",
      "    packages=find_packages(exclude=('tests',)),\n",
      "    install_requires=[\n",
      "        'Click',\n",
      "        'Pillow',\n",
      "        'requests',\n",
      "    ],\n",
      "    entry_points={\n",
      "        'console_scripts': [\n",
      "            'lgtm=lgtm.core:cli'\n",
      "        ]\n",
      "    }\n",
      ")"
     ]
    }
   ],
   "source": [
    "!cat setup.py"
   ]
  },
  {
   "cell_type": "markdown",
   "metadata": {},
   "source": [
    "### entry\\_points ── スクリプトインタフェースの登録を行う引数"
   ]
  },
  {
   "cell_type": "markdown",
   "metadata": {},
   "source": [
    "## 動かしてみよう"
   ]
  },
  {
   "cell_type": "code",
   "execution_count": 30,
   "metadata": {},
   "outputs": [
    {
     "name": "stdout",
     "output_type": "stream",
     "text": [
      "Obtaining file:///Users/suyamar/github/python-practice-book/src/13-application/workspace\n",
      "Requirement already satisfied: Click in /Users/suyamar/github/python-practice-book/src/13-application/venv/lib/python3.8/site-packages (from lgtm==1.0.0) (7.0)\n",
      "Requirement already satisfied: Pillow in /Users/suyamar/github/python-practice-book/src/13-application/venv/lib/python3.8/site-packages (from lgtm==1.0.0) (6.2.1)\n",
      "Requirement already satisfied: requests in /Users/suyamar/github/python-practice-book/src/13-application/venv/lib/python3.8/site-packages (from lgtm==1.0.0) (2.22.0)\n",
      "Requirement already satisfied: certifi>=2017.4.17 in /Users/suyamar/github/python-practice-book/src/13-application/venv/lib/python3.8/site-packages (from requests->lgtm==1.0.0) (2019.11.28)\n",
      "Requirement already satisfied: urllib3!=1.25.0,!=1.25.1,<1.26,>=1.21.1 in /Users/suyamar/github/python-practice-book/src/13-application/venv/lib/python3.8/site-packages (from requests->lgtm==1.0.0) (1.25.7)\n",
      "Requirement already satisfied: idna<2.9,>=2.5 in /Users/suyamar/github/python-practice-book/src/13-application/venv/lib/python3.8/site-packages (from requests->lgtm==1.0.0) (2.8)\n",
      "Requirement already satisfied: chardet<3.1.0,>=3.0.2 in /Users/suyamar/github/python-practice-book/src/13-application/venv/lib/python3.8/site-packages (from requests->lgtm==1.0.0) (3.0.4)\n",
      "Installing collected packages: lgtm\n",
      "  Found existing installation: lgtm 1.0.0\n",
      "    Not uninstalling lgtm at /Users/suyamar/github/python-practice-book/src/13-application/workspace, outside environment /Users/suyamar/github/python-practice-book/src/13-application/venv\n",
      "    Can't uninstall 'lgtm'. No files were found to uninstall.\n",
      "  Running setup.py develop for lgtm\n",
      "Successfully installed lgtm-1.0.0\n",
      "\u001b[33mWARNING: You are using pip version 19.2.3, however version 19.3.1 is available.\n",
      "You should consider upgrading via the 'pip install --upgrade pip' command.\u001b[0m\n",
      "Note: you may need to restart the kernel to use updated packages.\n"
     ]
    }
   ],
   "source": [
    "%pip install -e ."
   ]
  },
  {
   "cell_type": "code",
   "execution_count": 31,
   "metadata": {},
   "outputs": [
    {
     "name": "stdout",
     "output_type": "stream",
     "text": [
      "Usage: lgtm [OPTIONS] KEYWORD\n",
      "Try \"lgtm --help\" for help.\n",
      "\n",
      "Error: Missing argument \"KEYWORD\".\n"
     ]
    }
   ],
   "source": [
    "# コマンドが登録された\n",
    "!lgtm"
   ]
  },
  {
   "cell_type": "code",
   "execution_count": 32,
   "metadata": {},
   "outputs": [],
   "source": [
    "!lgtm book"
   ]
  },
  {
   "cell_type": "markdown",
   "metadata": {},
   "source": [
    "# 本章のまとめ"
   ]
  }
 ],
 "metadata": {
  "kernelspec": {
   "display_name": "Python 3",
   "language": "python",
   "name": "python3"
  },
  "language_info": {
   "codemirror_mode": {
    "name": "ipython",
    "version": 3
   },
   "file_extension": ".py",
   "mimetype": "text/x-python",
   "name": "python",
   "nbconvert_exporter": "python",
   "pygments_lexer": "ipython3",
   "version": "3.8.1"
  }
 },
 "nbformat": 4,
 "nbformat_minor": 4
}
